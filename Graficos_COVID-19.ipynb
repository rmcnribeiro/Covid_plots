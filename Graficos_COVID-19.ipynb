{
 "cells": [
  {
   "cell_type": "code",
   "execution_count": 19,
   "metadata": {},
   "outputs": [],
   "source": [
    "import numpy as np\n",
    "import pandas as pd\n",
    "import matplotlib.pyplot as plt\n",
    "import seaborn as sns\n",
    "import plotly.graph_objects as go\n",
    "\n",
    "sns.set()\n",
    "\n",
    "threshold = 100.0"
   ]
  },
  {
   "cell_type": "markdown",
   "metadata": {},
   "source": [
    "# Casos confirmados"
   ]
  },
  {
   "cell_type": "markdown",
   "metadata": {},
   "source": [
    "## Estados Unidos"
   ]
  },
  {
   "cell_type": "code",
   "execution_count": 20,
   "metadata": {},
   "outputs": [],
   "source": [
    "##################################### EXTRAÇÃO DOS DADOS\n",
    "\n",
    "url = 'https://raw.githubusercontent.com/nytimes/covid-19-data/master/us-counties.csv'\n",
    "data_us = pd.read_csv(url, error_bad_lines=False)\n",
    "\n",
    "dates = data_us['date'].unique()\n",
    "ndates = len(dates)\n",
    "counties = data_us['county'].unique()\n",
    "ncounties = len(counties)\n",
    "\n",
    "covid_us = pd.DataFrame(np.zeros((ndates,ncounties)))\n",
    "covid_us.columns = counties\n",
    "covid_us.index = dates\n",
    "data_us.index = data_us['date']\n",
    "\n",
    "for index, row in data_us.iterrows():\n",
    "    covid_us.at[index,row['county']] = row['cases']\n",
    "\n",
    "###################################### DEFINIÇÃO VARIAVEIS POR CONDADO\n",
    "    \n",
    "ny_, la_ = covid_us['New York City'], covid_us['Los Angeles']\n",
    "ny, la = ny_.loc[ny_>=threshold].reset_index(drop=True), la_.loc[la_>=threshold].reset_index(drop=True)\n",
    "\n",
    "miami_counties = covid_us[['Miami-Dade', 'Broward', 'Palm Beach']]\n",
    "mi_ = miami_counties.sum(axis=1)\n",
    "mi = mi_.loc[mi_>=threshold].reset_index(drop=True)"
   ]
  },
  {
   "cell_type": "code",
   "execution_count": 21,
   "metadata": {},
   "outputs": [
    {
     "name": "stdout",
     "output_type": "stream",
     "text": [
      "2020-04-03\n",
      "\n",
      "LA :  4566\n",
      "NY :  57941\n",
      "MI :  5817\n"
     ]
    }
   ],
   "source": [
    "def pesquisaDataEUA(data):\n",
    " \n",
    "    print(data)\n",
    "    print()\n",
    "    print(\"LA : \", int(la_.loc[data]))\n",
    "    print(\"NY : \", int(ny_.loc[data]))\n",
    "    print(\"MI : \", int(mi_.loc[data]))\n",
    "\n",
    "\n",
    "pesquisaDataEUA(\"2020-04-03\")"
   ]
  },
  {
   "cell_type": "markdown",
   "metadata": {},
   "source": [
    "## Itália"
   ]
  },
  {
   "cell_type": "markdown",
   "metadata": {},
   "source": [
    "### Milão"
   ]
  },
  {
   "cell_type": "code",
   "execution_count": 22,
   "metadata": {},
   "outputs": [],
   "source": [
    "################# EXTRAÇÃO DOS DADOS\n",
    "\n",
    "url_it = 'https://raw.githubusercontent.com/pcm-dpc/COVID-19/master/dati-province/dpc-covid19-ita-province.csv'\n",
    "data_it = pd.read_csv(url_it, error_bad_lines=False)\n",
    "\n",
    "dates = data_it['data'].unique()\n",
    "ndates = len(dates)\n",
    "provs = data_it['denominazione_provincia'].unique()\n",
    "nprovs = len(provs)\n",
    "\n",
    "covid_it = pd.DataFrame(np.zeros((ndates,nprovs)))\n",
    "covid_it.columns = provs\n",
    "covid_it.index = dates\n",
    "data_it.index = data_it['data']\n",
    "\n",
    "for index, row in data_it.iterrows():\n",
    "    covid_it.at[index,row['denominazione_provincia']] = row['totale_casi']\n",
    "\n",
    "mil = covid_it['Milano']\n",
    "mil = mil.loc[mil>=threshold].reset_index(drop=True)"
   ]
  },
  {
   "cell_type": "markdown",
   "metadata": {},
   "source": [
    "### Região da Lombardia"
   ]
  },
  {
   "cell_type": "markdown",
   "metadata": {},
   "source": [
    "Acabamos plotando somente a cidade de Milão, mas talvez fosse interessante utilizar a região inteira da Lombardia, que possui população mais próxima do Rio, apesar de ser uma área maior."
   ]
  },
  {
   "cell_type": "code",
   "execution_count": 23,
   "metadata": {},
   "outputs": [
    {
     "name": "stderr",
     "output_type": "stream",
     "text": [
      "/home/rmcnr/anaconda3/lib/python3.7/site-packages/ipykernel_launcher.py:20: SettingWithCopyWarning:\n",
      "\n",
      "\n",
      "A value is trying to be set on a copy of a slice from a DataFrame.\n",
      "Try using .loc[row_indexer,col_indexer] = value instead\n",
      "\n",
      "See the caveats in the documentation: https://pandas.pydata.org/pandas-docs/stable/user_guide/indexing.html#returning-a-view-versus-a-copy\n",
      "\n",
      "/home/rmcnr/anaconda3/lib/python3.7/site-packages/pandas/core/frame.py:4172: SettingWithCopyWarning:\n",
      "\n",
      "\n",
      "A value is trying to be set on a copy of a slice from a DataFrame\n",
      "\n",
      "See the caveats in the documentation: https://pandas.pydata.org/pandas-docs/stable/user_guide/indexing.html#returning-a-view-versus-a-copy\n",
      "\n"
     ]
    }
   ],
   "source": [
    "################# EXTRAÇÃO DOS DADOS\n",
    "\n",
    "url = \"https://en.wikipedia.org/wiki/Template:2019%E2%80%9320_coronavirus_pandemic_data/Italy_medical_cases\"\n",
    "dfs = pd.read_html(url, attrs={\"class\":\"wikitable mw-collapsible\"})\n",
    "df = dfs[0]\n",
    "df = df[:-7]\n",
    "colunas = []\n",
    "\n",
    "for column in df.columns:\n",
    "    colunas.append(column[1])\n",
    "\n",
    "df.columns = colunas\n",
    "df.set_index(\"Date\", inplace=True)\n",
    "df.index = pd.to_datetime(df.index)\n",
    "novas_colunas = df.columns[:-10]\n",
    "df_new = df[novas_colunas]\n",
    "\n",
    "# Tirando os valores entre parênteses\n",
    "for column in df_new.columns:\n",
    "    df_new[column] = df_new[column].str.replace(r\"\\(.*?\\)\", \"\")\n",
    "\n",
    "df_new.replace({r'[^\\x00-\\x7F]+':''}, regex=True, inplace=True)\n",
    "df_new.replace(',', '', regex=True, inplace=True)\n",
    "df_new.replace('–', '', regex=True, inplace=True)\n",
    "df_new.replace(' ', '', regex=True, inplace=True)\n",
    "df_new = df_new.fillna(0).apply(pd.to_numeric).cumsum()\n",
    "\n",
    "################### Definição Lombardia\n",
    "\n",
    "lom = df_new.loc[df_new['LOM']>= threshold, 'LOM'].reset_index(drop=True)\n"
   ]
  },
  {
   "cell_type": "markdown",
   "metadata": {},
   "source": [
    "## Espanha"
   ]
  },
  {
   "cell_type": "code",
   "execution_count": 24,
   "metadata": {},
   "outputs": [
    {
     "name": "stdout",
     "output_type": "stream",
     "text": [
      "2020-05-11\n",
      "\n",
      "MA :  69801\n"
     ]
    }
   ],
   "source": [
    "################# EXTRAÇÃO DOS DADOS\n",
    "\n",
    "url = 'https://raw.githubusercontent.com/datadista/datasets/master/COVID%2019/ccaa_covid19_casos.csv'\n",
    "data_spain = pd.read_csv(url, error_bad_lines=False)\n",
    "data_spain.drop(data_spain.columns[[0]],axis=1,inplace=True)\n",
    "data_spain = data_spain.transpose()\n",
    "data_spain = data_spain.rename(columns=data_spain.iloc[0]).drop(data_spain.index[0])\n",
    "\n",
    "################### Definição Madrid\n",
    "\n",
    "mad = data_spain.loc[data_spain[\"Madrid\"]>=threshold, \"Madrid\"].reset_index(drop=True)\n",
    "#mad_ =\n",
    "\n",
    "def pesquisaDataSPAIN(data):\n",
    " \n",
    "    print(data)\n",
    "    print()\n",
    "    print(\"MA : \", int(data_spain[\"Madrid\"][data]))\n",
    "\n",
    "\n",
    "#data_spain\n",
    "pesquisaDataSPAIN(\"2020-05-11\")\n"
   ]
  },
  {
   "cell_type": "markdown",
   "metadata": {},
   "source": [
    "## Brasil"
   ]
  },
  {
   "cell_type": "markdown",
   "metadata": {},
   "source": [
    "### São Paulo"
   ]
  },
  {
   "cell_type": "code",
   "execution_count": 25,
   "metadata": {},
   "outputs": [],
   "source": [
    "url = 'https://brasil.io/dataset/covid19/caso/?search=S%C3%A3o+Paulo&date=&state=SP&city=S%C3%A3o+Paulo&place_type=&is_last=&city_ibge_code=&order_for_place='\n",
    "dfs = pd.read_html(url)\n",
    "sp_total = dfs[0]\n",
    "sp = sp_total.loc[sp_total[\"Confirmações\"]>=threshold][\"Confirmações\"].reset_index(drop=True)\n",
    "sp = sp[::-1].reset_index(drop=True)"
   ]
  },
  {
   "cell_type": "markdown",
   "metadata": {},
   "source": [
    "### Rio de Janeiro"
   ]
  },
  {
   "cell_type": "code",
   "execution_count": 26,
   "metadata": {},
   "outputs": [],
   "source": [
    "url = 'https://brasil.io/dataset/covid19/caso/?search=Rio+de+Janeiro&date=&state=RJ&city=Rio+de+Janeiro&place_type=&is_last=&city_ibge_code=&order_for_place='\n",
    "dfs = pd.read_html(url)\n",
    "rj_total = dfs[0]\n",
    "rj = rj_total.loc[rj_total[\"Confirmações\"]>=threshold][\"Confirmações\"].reset_index(drop=True)\n",
    "rj = rj[::-1].reset_index(drop=True)"
   ]
  },
  {
   "cell_type": "markdown",
   "metadata": {},
   "source": [
    "## Coreia do Sul"
   ]
  },
  {
   "cell_type": "markdown",
   "metadata": {},
   "source": [
    "### Seul"
   ]
  },
  {
   "cell_type": "code",
   "execution_count": 27,
   "metadata": {},
   "outputs": [
    {
     "name": "stderr",
     "output_type": "stream",
     "text": [
      "/home/rmcnr/anaconda3/lib/python3.7/site-packages/pandas/core/generic.py:6746: SettingWithCopyWarning:\n",
      "\n",
      "\n",
      "A value is trying to be set on a copy of a slice from a DataFrame\n",
      "\n",
      "See the caveats in the documentation: https://pandas.pydata.org/pandas-docs/stable/user_guide/indexing.html#returning-a-view-versus-a-copy\n",
      "\n"
     ]
    }
   ],
   "source": [
    "url = 'https://en.wikipedia.org/wiki/2020_coronavirus_pandemic_in_South_Korea'\n",
    "dfs = pd.read_html(url)\n",
    "df = dfs[6]\n",
    "df = df[:-6]\n",
    "colunas = []\n",
    "\n",
    "for column in df.columns:\n",
    "    colunas.append(column[1])\n",
    "\n",
    "df.columns = colunas\n",
    "\n",
    "df.set_index(\"Date\", inplace=True)\n",
    "\n",
    "# Excluindo as anomalias da tabela \n",
    "\n",
    "df = df.drop(index='Date')\n",
    "df.reset_index(inplace=True)\n",
    "df_seoul = df[\"Seoul\"]\n",
    "df_seoul.replace({r'[^\\x00-\\x7F]+':''}, regex=True, inplace=True)\n",
    "df_seoul.replace(',', '', regex=True, inplace=True)\n",
    "df_seoul.replace('–', '', regex=True, inplace=True)\n",
    "df_seoul.replace(' ', '', regex=True, inplace=True)\n",
    "df_seoul.replace(r\"\\(.*?\\)\", \"\",regex=True,inplace=True)\n",
    "\n",
    "seoul = df_seoul.fillna(0).apply(pd.to_numeric).cumsum()\n",
    "\n",
    "# Dando uma divergencia de 6 casos para baixo\n",
    "\n",
    "seoul = seoul.loc[seoul>=threshold].reset_index(drop=True)"
   ]
  },
  {
   "cell_type": "markdown",
   "metadata": {},
   "source": [
    "##  Marcas de referência"
   ]
  },
  {
   "cell_type": "code",
   "execution_count": 28,
   "metadata": {},
   "outputs": [],
   "source": [
    "start = 100\n",
    "ratio = np.array([2, 2**(1/2), 2**(1/4), 2**(1/7)])\n",
    "doubling_1day = [start * ratio[0]**i for i in range(14)]\n",
    "doubling_2days = [start * ratio[1]**i for i in range(28)]\n",
    "doubling_4days = [start * ratio[2]**i for i in range(56)]\n",
    "doubling_7days = [start * ratio[3]**i for i in range(70)]"
   ]
  },
  {
   "cell_type": "code",
   "execution_count": 29,
   "metadata": {},
   "outputs": [
    {
     "data": {
      "image/png": "[encoded data removed]",
      "text/plain": [
       "<Figure size 648x432 with 1 Axes>"
      ]
     },
     "metadata": {},
     "output_type": "display_data"
    }
   ],
   "source": [
    "plt.figure(figsize=(9,6))\n",
    "plt.title(\"Confirmados a partir do centésimo confirmado em diferentes cidades\")\n",
    "plt.xlabel(\"Dias a partir do centésimo confirmado\")\n",
    "plt.ylabel(\"Confirmados\")\n",
    "plt.plot(doubling_1day, '--', label = \"Casos dobram a cada dia\")\n",
    "plt.plot(doubling_2days, '--' , label = \"Casos dobram a cada 2 dias\")\n",
    "plt.plot(doubling_4days, '--', label = \"Casos dobram a cada 4 dias\")\n",
    "plt.plot(doubling_7days, '--', label = \"Casos dobram a cada semana\")\n",
    "plt.plot(ny, label='Nova Iorque')\n",
    "plt.plot(mi, label='Miami')\n",
    "#plt.plot(la, label='Los Angeles')\n",
    "plt.plot(mil, label='Milão')\n",
    "plt.plot(mad, label='Madri')\n",
    "plt.plot(sp, label='São Paulo')\n",
    "plt.plot(rj, label='Rio de Janeiro')\n",
    "plt.plot(seoul, label='Seul')\n",
    "plt.yscale('log')\n",
    "plt.legend(loc=\"upper left\", bbox_to_anchor=(1,1))\n",
    "\n",
    "plt.show()\n",
    "\n"
   ]
  },
  {
   "cell_type": "code",
   "execution_count": 30,
   "metadata": {},
   "outputs": [],
   "source": [
    "#df = pd.DataFrame({\"New York\":ny,\"Miami\":mi,\"Los Angeles\":la,\"Milão\":mil,\"Madrid\":mad,\"São Paulo\":sp,\"Rio de Janeiro\":rj,\"Seul\":seoul})"
   ]
  },
  {
   "cell_type": "code",
   "execution_count": 34,
   "metadata": {},
   "outputs": [
    {
     "data": {
      "application/vnd.plotly.v1+json": {
       "config": {
        "plotlyServerURL": "https://plot.ly"
       },
       "data": [
        {
         "hovertemplate": "<br><b>Dias</b>: %{x}<br><br><b>Confirmados</b>: %{y}",
         "mode": "lines",
         "name": "Nova York",
         "type": "scatter",
         "x": [
          0,
          1,
          2,
          3,
          4,
          5,
          6,
          7,
          8,
          9,
          10,
          11,
          12,
          13,
          14,
          15,
          16,
          17,
          18,
          19,
          20,
          21,
          22,
          23,
          24,
          25,
          26,
          27,
          28,
          29,
          30,
          31,
          32,
          33,
          34,
          35,
          36,
          37,
          38,
          39,
          40,
          41,
          42,
          43,
          44,
          45,
          46,
          47,
          48,
          49,
          50,
          51,
          52,
          53,
          54,
          55,
          56,
          57,
          58,
          59
         ],
         "y": [
          155,
          269,
          330,
          464,
          646,
          1344,
          2477,
          4419,
          6226,
          9065,
          12329,
          14943,
          20061,
          23182,
          25509,
          30919,
          33983,
          38375,
          43518,
          47914,
          52400,
          57941,
          64274,
          68726,
          73553,
          78498,
          83673,
          89127,
          94702,
          100840,
          105939,
          109706,
          113632,
          121653,
          126623,
          131003,
          135052,
          138370,
          140881,
          143547,
          146787,
          150327,
          155081,
          159851,
          163106,
          165463,
          167487,
          170124,
          172784,
          174931,
          177490,
          179728,
          181034,
          182318,
          183770,
          185653,
          187157,
          188663,
          189656,
          190546
         ]
        },
        {
         "hovertemplate": "<br><b>Dias</b>: %{x}<br><br><b>Confirmados</b>: %{y}",
         "mode": "lines",
         "name": "Miami",
         "type": "scatter",
         "x": [
          0,
          1,
          2,
          3,
          4,
          5,
          6,
          7,
          8,
          9,
          10,
          11,
          12,
          13,
          14,
          15,
          16,
          17,
          18,
          19,
          20,
          21,
          22,
          23,
          24,
          25,
          26,
          27,
          28,
          29,
          30,
          31,
          32,
          33,
          34,
          35,
          36,
          37,
          38,
          39,
          40,
          41,
          42,
          43,
          44,
          45,
          46,
          47,
          48,
          49,
          50,
          51,
          52,
          53,
          54,
          55
         ],
         "y": [
          109,
          177,
          225,
          293,
          390,
          515,
          627,
          779,
          1040,
          1330,
          1741,
          2259,
          2865,
          3299,
          3893,
          4379,
          5101,
          5817,
          6606,
          7029,
          7825,
          8512,
          9047,
          9708,
          10407,
          11100,
          11646,
          12337,
          12710,
          13245,
          13656,
          14597,
          15018,
          15492,
          15992,
          16541,
          16781,
          17570,
          18114,
          18275,
          18774,
          19124,
          19552,
          19733,
          19977,
          20571,
          20966,
          21214,
          21783,
          22103,
          22401,
          22846,
          22964,
          23416,
          23732,
          23935
         ]
        },
        {
         "hovertemplate": "<br><b>Dias</b>: %{x}<br><br><b>Confirmados</b>: %{y}",
         "mode": "lines",
         "name": "Milão",
         "type": "scatter",
         "x": [
          0,
          1,
          2,
          3,
          4,
          5,
          6,
          7,
          8,
          9,
          10,
          11,
          12,
          13,
          14,
          15,
          16,
          17,
          18,
          19,
          20,
          21,
          22,
          23,
          24,
          25,
          26,
          27,
          28,
          29,
          30,
          31,
          32,
          33,
          34,
          35,
          36,
          37,
          38,
          39,
          40,
          41,
          42,
          43,
          44,
          45,
          46,
          47,
          48,
          49,
          50,
          51,
          52,
          53,
          54,
          55,
          56,
          57,
          58,
          59,
          60,
          61,
          62,
          63,
          64,
          65,
          66,
          67,
          68,
          69
         ],
         "y": [
          145,
          197,
          267,
          361,
          406,
          506,
          592,
          925,
          1146,
          1307,
          1551,
          1750,
          1983,
          2326,
          2644,
          3278,
          3804,
          4672,
          5096,
          5326,
          5701,
          6074,
          6922,
          7469,
          7783,
          8329,
          8676,
          8911,
          9522,
          10004,
          10391,
          10819,
          11230,
          11538,
          11787,
          12039,
          12479,
          12748,
          13268,
          13680,
          14161,
          14350,
          14675,
          14952,
          15277,
          15546,
          15825,
          16112,
          16520,
          17000,
          17277,
          17689,
          17908,
          18371,
          18559,
          18837,
          19121,
          19337,
          19701,
          19950,
          20068,
          20254,
          20398,
          20711,
          20893,
          21094,
          21272,
          21376,
          21490,
          21626
         ]
        },
        {
         "hovertemplate": "<br><b>Dias</b>: %{x}<br><br><b>Confirmados</b>: %{y}",
         "mode": "lines",
         "name": "Madri",
         "type": "scatter",
         "x": [
          0,
          1,
          2,
          3,
          4,
          5,
          6,
          7,
          8,
          9,
          10,
          11,
          12,
          13,
          14,
          15,
          16,
          17,
          18,
          19,
          20,
          21,
          22,
          23,
          24,
          25,
          26,
          27,
          28,
          29,
          30,
          31,
          32,
          33,
          34,
          35,
          36,
          37,
          38,
          39,
          40,
          41,
          42,
          43,
          44,
          45,
          46,
          47,
          48,
          49,
          50,
          51,
          52,
          53,
          54,
          55,
          56,
          57,
          58,
          59,
          60,
          61,
          62,
          63,
          64,
          65,
          66,
          67,
          68,
          69
         ],
         "y": [
          140,
          194,
          306,
          509,
          730,
          993,
          1496,
          2200,
          2925,
          3709,
          4649,
          5548,
          6360,
          7619,
          9566,
          11315,
          13359,
          15680,
          17354,
          18856,
          21524,
          24413,
          27354,
          30720,
          33078,
          34098,
          34970,
          37514,
          39313,
          41088,
          42911,
          44633,
          45518,
          46038,
          47594,
          48977,
          50388,
          51331,
          52182,
          52716,
          53053,
          54027,
          55104,
          56000,
          56832,
          57639,
          60599,
          60993,
          61609,
          62481,
          63597,
          64162,
          64825,
          65055,
          65516,
          66281,
          66928,
          67377,
          67772,
          67888,
          68005,
          68115,
          68507,
          68805,
          69174,
          69397,
          69666,
          69764,
          69801,
          69849
         ]
        },
        {
         "hovertemplate": "<br><b>Dias</b>: %{x}<br><br><b>Confirmados</b>: %{y}",
         "mode": "lines",
         "name": "São Paulo",
         "type": "scatter",
         "x": [
          0,
          1,
          2,
          3,
          4,
          5,
          6,
          7,
          8,
          9,
          10,
          11,
          12,
          13,
          14,
          15,
          16,
          17,
          18,
          19,
          20,
          21,
          22,
          23,
          24,
          25,
          26,
          27,
          28,
          29,
          30,
          31,
          32,
          33,
          34,
          35,
          36,
          37,
          38,
          39,
          40,
          41,
          42,
          43,
          44,
          45,
          46,
          47,
          48,
          49
         ],
         "y": [
          156,
          214,
          259,
          306,
          722,
          899,
          1044,
          1233,
          1885,
          2418,
          2815,
          3202,
          3496,
          3612,
          3754,
          4258,
          4947,
          5477,
          5982,
          6131,
          6352,
          6418,
          6705,
          7764,
          7908,
          8744,
          9428,
          9668,
          9815,
          10342,
          10691,
          11225,
          11800,
          13098,
          13513,
          13989,
          15397,
          16638,
          18149,
          19087,
          19494,
          19822,
          20073,
          21140,
          23187,
          24273,
          25367,
          26787,
          27307,
          27771
         ]
        },
        {
         "hovertemplate": "<br><b>Dias</b>: %{x}<br><br><b>Confirmados</b>: %{y}",
         "mode": "lines+markers",
         "name": "Rio de Janeiro",
         "type": "scatter",
         "x": [
          0,
          1,
          2,
          3,
          4,
          5,
          6,
          7,
          8,
          9,
          10,
          11,
          12,
          13,
          14,
          15,
          16,
          17,
          18,
          19,
          20,
          21,
          22,
          23,
          24,
          25,
          26,
          27,
          28,
          29,
          30,
          31,
          32,
          33,
          34,
          35,
          36,
          37,
          38,
          39,
          40,
          41,
          42,
          43,
          44,
          45,
          46,
          47,
          48,
          49
         ],
         "y": [
          212,
          276,
          331,
          368,
          431,
          489,
          516,
          553,
          586,
          697,
          798,
          867,
          982,
          1068,
          1110,
          1251,
          1449,
          1633,
          1808,
          1905,
          1996,
          2322,
          2393,
          2519,
          2659,
          2946,
          3059,
          3126,
          3243,
          3587,
          3656,
          4027,
          4091,
          4481,
          4498,
          5261,
          5554,
          5689,
          5903,
          6189,
          6448,
          6750,
          7283,
          7832,
          8577,
          9051,
          9672,
          10479,
          10520,
          10619
         ]
        },
        {
         "hovertemplate": "<br><b>Dias</b>: %{x}<br><br><b>Confirmados</b>: %{y}",
         "mode": "lines",
         "name": "Seul",
         "type": "scatter",
         "x": [
          0,
          1,
          2,
          3,
          4,
          5,
          6,
          7,
          8,
          9,
          10,
          11,
          12,
          13,
          14,
          15,
          16,
          17,
          18,
          19,
          20,
          21,
          22,
          23,
          24,
          25,
          26,
          27,
          28,
          29,
          30,
          31,
          32,
          33,
          34,
          35,
          36,
          37,
          38,
          39,
          40,
          41,
          42,
          43,
          44,
          45,
          46,
          47,
          48,
          49,
          50,
          51,
          52,
          53,
          54,
          55,
          56,
          57,
          58,
          59,
          60,
          61,
          62,
          63,
          64,
          65,
          66
         ],
         "y": [
          102,
          114,
          124,
          135,
          187,
          206,
          219,
          232,
          241,
          247,
          259,
          264,
          276,
          293,
          308,
          318,
          324,
          328,
          341,
          354,
          366,
          384,
          404,
          420,
          444,
          468,
          482,
          500,
          522,
          546,
          557,
          561,
          572,
          584,
          589,
          593,
          596,
          604,
          606,
          611,
          613,
          615,
          616,
          618,
          618,
          620,
          622,
          622,
          622,
          623,
          623,
          623,
          627,
          627,
          627,
          628,
          629,
          631,
          631,
          631,
          631,
          631,
          631,
          643,
          657,
          677,
          689
         ]
        },
        {
         "hovertemplate": "<br><b>Dias</b>: %{x}<br><br><b>Confirmados</b>: %{y}",
         "mode": "lines",
         "name": "Dobra a cada dia",
         "type": "scatter",
         "y": [
          100,
          200,
          400,
          800,
          1600,
          3200,
          6400,
          12800,
          25600,
          51200,
          102400,
          204800,
          409600,
          819200
         ]
        },
        {
         "hovertemplate": "<br><b>Dias</b>: %{x}<br><br><b>Confirmados</b>: %{y}",
         "mode": "lines",
         "name": "Dobra a cada dois dias",
         "type": "scatter",
         "y": [
          100,
          141.4213562373095,
          200.00000000000006,
          282.8427124746191,
          400.0000000000001,
          565.6854249492383,
          800.0000000000003,
          1131.3708498984765,
          1600.0000000000007,
          2262.741699796953,
          3200.0000000000023,
          4525.483399593907,
          6400.0000000000055,
          9050.966799187816,
          12800.000000000011,
          18101.933598375635,
          25600.00000000003,
          36203.86719675128,
          51200.000000000065,
          72407.73439350256,
          102400.00000000013,
          144815.46878700514,
          204800.00000000032,
          289630.93757401034,
          409600.00000000064,
          579261.8751480207,
          819200.0000000014,
          1158523.7502960416
         ]
        },
        {
         "hovertemplate": "<br><b>Dias</b>: %{x}<br><br><b>Confirmados</b>: %{y}",
         "mode": "lines",
         "name": "Dobra a cada quatro dias",
         "type": "scatter",
         "y": [
          100,
          118.9207115002721,
          141.42135623730948,
          168.1792830507429,
          199.99999999999997,
          237.84142300054415,
          282.84271247461896,
          336.35856610148574,
          399.9999999999999,
          475.6828460010883,
          565.6854249492378,
          672.7171322029715,
          799.9999999999997,
          951.3656920021765,
          1131.3708498984756,
          1345.4342644059427,
          1599.999999999999,
          1902.7313840043525,
          2262.741699796951,
          2690.868528811885,
          3199.9999999999977,
          3805.4627680087046,
          4525.483399593901,
          5381.737057623769,
          6399.999999999995,
          7610.925536017409,
          9050.9667991878,
          10763.474115247536,
          12799.999999999989,
          15221.851072034815,
          18101.9335983756,
          21526.948230495072,
          25599.99999999997,
          30443.702144069623,
          36203.86719675119,
          43053.89646099013,
          51199.999999999935,
          60887.404288139245,
          72407.73439350237,
          86107.79292198025,
          102399.99999999987,
          121774.80857627848,
          144815.46878700473,
          172215.5858439605,
          204799.9999999997,
          243549.6171525569,
          289630.9375740094,
          344431.1716879209,
          409599.99999999936,
          487099.2343051137,
          579261.8751480188,
          688862.3433758417,
          819199.9999999986,
          974198.4686102275,
          1158523.7502960374,
          1377724.6867516832
         ]
        },
        {
         "hovertemplate": "<br><b>Dias</b>: %{x}<br><br><b>Confirmados</b>: %{y}",
         "mode": "lines",
         "name": "Dobra a cada sete dias",
         "type": "scatter",
         "y": [
          100,
          110.40895136738122,
          121.90136542044752,
          134.59001926323558,
          148.5994289136948,
          164.06707120152754,
          181.14473285278126,
          199.9999999999999,
          220.81790273476233,
          243.8027308408949,
          269.18003852647104,
          297.1988578273894,
          328.13414240305485,
          362.2894657055623,
          399.99999999999955,
          441.6358054695245,
          487.6054616817895,
          538.3600770529417,
          594.3977156547786,
          656.2682848061094,
          724.5789314111242,
          799.9999999999986,
          883.2716109390484,
          975.2109233635786,
          1076.7201541058828,
          1188.7954313095565,
          1312.536569612218,
          1449.1578628222476,
          1599.9999999999964,
          1766.5432218780957,
          1950.421846727156,
          2153.4403082117647,
          2377.5908626191112,
          2625.0731392244347,
          2898.315725644494,
          3199.999999999991,
          3533.086443756189,
          3900.8436934543097,
          4306.880616423527,
          4755.18172523822,
          5250.146278448866,
          5796.631451288984,
          6399.999999999979,
          7066.172887512375,
          7801.687386908616,
          8613.761232847048,
          9510.363450476436,
          10500.292556897726,
          11593.262902577962,
          12799.99999999995,
          14132.345775024743,
          15603.374773817222,
          17227.522465694088,
          19020.72690095286,
          21000.58511379544,
          23186.52580515591,
          25599.999999999887,
          28264.69155004947,
          31206.749547634427,
          34455.04493138816,
          38041.4538019057,
          42001.17022759086,
          46373.0516103118,
          51199.999999999745,
          56529.3831000989,
          62413.499095268824,
          68910.08986277627,
          76082.90760381136,
          84002.34045518168,
          92746.10322062354
         ]
        }
       ],
       "layout": {
        "height": 700,
        "template": {
         "data": {
          "bar": [
           {
            "error_x": {
             "color": "#2a3f5f"
            },
            "error_y": {
             "color": "#2a3f5f"
            },
            "marker": {
             "line": {
              "color": "#E5ECF6",
              "width": 0.5
             }
            },
            "type": "bar"
           }
          ],
          "barpolar": [
           {
            "marker": {
             "line": {
              "color": "#E5ECF6",
              "width": 0.5
             }
            },
            "type": "barpolar"
           }
          ],
          "carpet": [
           {
            "aaxis": {
             "endlinecolor": "#2a3f5f",
             "gridcolor": "white",
             "linecolor": "white",
             "minorgridcolor": "white",
             "startlinecolor": "#2a3f5f"
            },
            "baxis": {
             "endlinecolor": "#2a3f5f",
             "gridcolor": "white",
             "linecolor": "white",
             "minorgridcolor": "white",
             "startlinecolor": "#2a3f5f"
            },
            "type": "carpet"
           }
          ],
          "choropleth": [
           {
            "colorbar": {
             "outlinewidth": 0,
             "ticks": ""
            },
            "type": "choropleth"
           }
          ],
          "contour": [
           {
            "colorbar": {
             "outlinewidth": 0,
             "ticks": ""
            },
            "colorscale": [
             [
              0,
              "#0d0887"
             ],
             [
              0.1111111111111111,
              "#46039f"
             ],
             [
              0.2222222222222222,
              "#7201a8"
             ],
             [
              0.3333333333333333,
              "#9c179e"
             ],
             [
              0.4444444444444444,
              "#bd3786"
             ],
             [
              0.5555555555555556,
              "#d8576b"
             ],
             [
              0.6666666666666666,
              "#ed7953"
             ],
             [
              0.7777777777777778,
              "#fb9f3a"
             ],
             [
              0.8888888888888888,
              "#fdca26"
             ],
             [
              1,
              "#f0f921"
             ]
            ],
            "type": "contour"
           }
          ],
          "contourcarpet": [
           {
            "colorbar": {
             "outlinewidth": 0,
             "ticks": ""
            },
            "type": "contourcarpet"
           }
          ],
          "heatmap": [
           {
            "colorbar": {
             "outlinewidth": 0,
             "ticks": ""
            },
            "colorscale": [
             [
              0,
              "#0d0887"
             ],
             [
              0.1111111111111111,
              "#46039f"
             ],
             [
              0.2222222222222222,
              "#7201a8"
             ],
             [
              0.3333333333333333,
              "#9c179e"
             ],
             [
              0.4444444444444444,
              "#bd3786"
             ],
             [
              0.5555555555555556,
              "#d8576b"
             ],
             [
              0.6666666666666666,
              "#ed7953"
             ],
             [
              0.7777777777777778,
              "#fb9f3a"
             ],
             [
              0.8888888888888888,
              "#fdca26"
             ],
             [
              1,
              "#f0f921"
             ]
            ],
            "type": "heatmap"
           }
          ],
          "heatmapgl": [
           {
            "colorbar": {
             "outlinewidth": 0,
             "ticks": ""
            },
            "colorscale": [
             [
              0,
              "#0d0887"
             ],
             [
              0.1111111111111111,
              "#46039f"
             ],
             [
              0.2222222222222222,
              "#7201a8"
             ],
             [
              0.3333333333333333,
              "#9c179e"
             ],
             [
              0.4444444444444444,
              "#bd3786"
             ],
             [
              0.5555555555555556,
              "#d8576b"
             ],
             [
              0.6666666666666666,
              "#ed7953"
             ],
             [
              0.7777777777777778,
              "#fb9f3a"
             ],
             [
              0.8888888888888888,
              "#fdca26"
             ],
             [
              1,
              "#f0f921"
             ]
            ],
            "type": "heatmapgl"
           }
          ],
          "histogram": [
           {
            "marker": {
             "colorbar": {
              "outlinewidth": 0,
              "ticks": ""
             }
            },
            "type": "histogram"
           }
          ],
          "histogram2d": [
           {
            "colorbar": {
             "outlinewidth": 0,
             "ticks": ""
            },
            "colorscale": [
             [
              0,
              "#0d0887"
             ],
             [
              0.1111111111111111,
              "#46039f"
             ],
             [
              0.2222222222222222,
              "#7201a8"
             ],
             [
              0.3333333333333333,
              "#9c179e"
             ],
             [
              0.4444444444444444,
              "#bd3786"
             ],
             [
              0.5555555555555556,
              "#d8576b"
             ],
             [
              0.6666666666666666,
              "#ed7953"
             ],
             [
              0.7777777777777778,
              "#fb9f3a"
             ],
             [
              0.8888888888888888,
              "#fdca26"
             ],
             [
              1,
              "#f0f921"
             ]
            ],
            "type": "histogram2d"
           }
          ],
          "histogram2dcontour": [
           {
            "colorbar": {
             "outlinewidth": 0,
             "ticks": ""
            },
            "colorscale": [
             [
              0,
              "#0d0887"
             ],
             [
              0.1111111111111111,
              "#46039f"
             ],
             [
              0.2222222222222222,
              "#7201a8"
             ],
             [
              0.3333333333333333,
              "#9c179e"
             ],
             [
              0.4444444444444444,
              "#bd3786"
             ],
             [
              0.5555555555555556,
              "#d8576b"
             ],
             [
              0.6666666666666666,
              "#ed7953"
             ],
             [
              0.7777777777777778,
              "#fb9f3a"
             ],
             [
              0.8888888888888888,
              "#fdca26"
             ],
             [
              1,
              "#f0f921"
             ]
            ],
            "type": "histogram2dcontour"
           }
          ],
          "mesh3d": [
           {
            "colorbar": {
             "outlinewidth": 0,
             "ticks": ""
            },
            "type": "mesh3d"
           }
          ],
          "parcoords": [
           {
            "line": {
             "colorbar": {
              "outlinewidth": 0,
              "ticks": ""
             }
            },
            "type": "parcoords"
           }
          ],
          "pie": [
           {
            "automargin": true,
            "type": "pie"
           }
          ],
          "scatter": [
           {
            "marker": {
             "colorbar": {
              "outlinewidth": 0,
              "ticks": ""
             }
            },
            "type": "scatter"
           }
          ],
          "scatter3d": [
           {
            "line": {
             "colorbar": {
              "outlinewidth": 0,
              "ticks": ""
             }
            },
            "marker": {
             "colorbar": {
              "outlinewidth": 0,
              "ticks": ""
             }
            },
            "type": "scatter3d"
           }
          ],
          "scattercarpet": [
           {
            "marker": {
             "colorbar": {
              "outlinewidth": 0,
              "ticks": ""
             }
            },
            "type": "scattercarpet"
           }
          ],
          "scattergeo": [
           {
            "marker": {
             "colorbar": {
              "outlinewidth": 0,
              "ticks": ""
             }
            },
            "type": "scattergeo"
           }
          ],
          "scattergl": [
           {
            "marker": {
             "colorbar": {
              "outlinewidth": 0,
              "ticks": ""
             }
            },
            "type": "scattergl"
           }
          ],
          "scattermapbox": [
           {
            "marker": {
             "colorbar": {
              "outlinewidth": 0,
              "ticks": ""
             }
            },
            "type": "scattermapbox"
           }
          ],
          "scatterpolar": [
           {
            "marker": {
             "colorbar": {
              "outlinewidth": 0,
              "ticks": ""
             }
            },
            "type": "scatterpolar"
           }
          ],
          "scatterpolargl": [
           {
            "marker": {
             "colorbar": {
              "outlinewidth": 0,
              "ticks": ""
             }
            },
            "type": "scatterpolargl"
           }
          ],
          "scatterternary": [
           {
            "marker": {
             "colorbar": {
              "outlinewidth": 0,
              "ticks": ""
             }
            },
            "type": "scatterternary"
           }
          ],
          "surface": [
           {
            "colorbar": {
             "outlinewidth": 0,
             "ticks": ""
            },
            "colorscale": [
             [
              0,
              "#0d0887"
             ],
             [
              0.1111111111111111,
              "#46039f"
             ],
             [
              0.2222222222222222,
              "#7201a8"
             ],
             [
              0.3333333333333333,
              "#9c179e"
             ],
             [
              0.4444444444444444,
              "#bd3786"
             ],
             [
              0.5555555555555556,
              "#d8576b"
             ],
             [
              0.6666666666666666,
              "#ed7953"
             ],
             [
              0.7777777777777778,
              "#fb9f3a"
             ],
             [
              0.8888888888888888,
              "#fdca26"
             ],
             [
              1,
              "#f0f921"
             ]
            ],
            "type": "surface"
           }
          ],
          "table": [
           {
            "cells": {
             "fill": {
              "color": "#EBF0F8"
             },
             "line": {
              "color": "white"
             }
            },
            "header": {
             "fill": {
              "color": "#C8D4E3"
             },
             "line": {
              "color": "white"
             }
            },
            "type": "table"
           }
          ]
         },
         "layout": {
          "annotationdefaults": {
           "arrowcolor": "#2a3f5f",
           "arrowhead": 0,
           "arrowwidth": 1
          },
          "coloraxis": {
           "colorbar": {
            "outlinewidth": 0,
            "ticks": ""
           }
          },
          "colorscale": {
           "diverging": [
            [
             0,
             "#8e0152"
            ],
            [
             0.1,
             "#c51b7d"
            ],
            [
             0.2,
             "#de77ae"
            ],
            [
             0.3,
             "#f1b6da"
            ],
            [
             0.4,
             "#fde0ef"
            ],
            [
             0.5,
             "#f7f7f7"
            ],
            [
             0.6,
             "#e6f5d0"
            ],
            [
             0.7,
             "#b8e186"
            ],
            [
             0.8,
             "#7fbc41"
            ],
            [
             0.9,
             "#4d9221"
            ],
            [
             1,
             "#276419"
            ]
           ],
           "sequential": [
            [
             0,
             "#0d0887"
            ],
            [
             0.1111111111111111,
             "#46039f"
            ],
            [
             0.2222222222222222,
             "#7201a8"
            ],
            [
             0.3333333333333333,
             "#9c179e"
            ],
            [
             0.4444444444444444,
             "#bd3786"
            ],
            [
             0.5555555555555556,
             "#d8576b"
            ],
            [
             0.6666666666666666,
             "#ed7953"
            ],
            [
             0.7777777777777778,
             "#fb9f3a"
            ],
            [
             0.8888888888888888,
             "#fdca26"
            ],
            [
             1,
             "#f0f921"
            ]
           ],
           "sequentialminus": [
            [
             0,
             "#0d0887"
            ],
            [
             0.1111111111111111,
             "#46039f"
            ],
            [
             0.2222222222222222,
             "#7201a8"
            ],
            [
             0.3333333333333333,
             "#9c179e"
            ],
            [
             0.4444444444444444,
             "#bd3786"
            ],
            [
             0.5555555555555556,
             "#d8576b"
            ],
            [
             0.6666666666666666,
             "#ed7953"
            ],
            [
             0.7777777777777778,
             "#fb9f3a"
            ],
            [
             0.8888888888888888,
             "#fdca26"
            ],
            [
             1,
             "#f0f921"
            ]
           ]
          },
          "colorway": [
           "#636efa",
           "#EF553B",
           "#00cc96",
           "#ab63fa",
           "#FFA15A",
           "#19d3f3",
           "#FF6692",
           "#B6E880",
           "#FF97FF",
           "#FECB52"
          ],
          "font": {
           "color": "#2a3f5f"
          },
          "geo": {
           "bgcolor": "white",
           "lakecolor": "white",
           "landcolor": "#E5ECF6",
           "showlakes": true,
           "showland": true,
           "subunitcolor": "white"
          },
          "hoverlabel": {
           "align": "left"
          },
          "hovermode": "closest",
          "mapbox": {
           "style": "light"
          },
          "paper_bgcolor": "white",
          "plot_bgcolor": "#E5ECF6",
          "polar": {
           "angularaxis": {
            "gridcolor": "white",
            "linecolor": "white",
            "ticks": ""
           },
           "bgcolor": "#E5ECF6",
           "radialaxis": {
            "gridcolor": "white",
            "linecolor": "white",
            "ticks": ""
           }
          },
          "scene": {
           "xaxis": {
            "backgroundcolor": "#E5ECF6",
            "gridcolor": "white",
            "gridwidth": 2,
            "linecolor": "white",
            "showbackground": true,
            "ticks": "",
            "zerolinecolor": "white"
           },
           "yaxis": {
            "backgroundcolor": "#E5ECF6",
            "gridcolor": "white",
            "gridwidth": 2,
            "linecolor": "white",
            "showbackground": true,
            "ticks": "",
            "zerolinecolor": "white"
           },
           "zaxis": {
            "backgroundcolor": "#E5ECF6",
            "gridcolor": "white",
            "gridwidth": 2,
            "linecolor": "white",
            "showbackground": true,
            "ticks": "",
            "zerolinecolor": "white"
           }
          },
          "shapedefaults": {
           "line": {
            "color": "#2a3f5f"
           }
          },
          "ternary": {
           "aaxis": {
            "gridcolor": "white",
            "linecolor": "white",
            "ticks": ""
           },
           "baxis": {
            "gridcolor": "white",
            "linecolor": "white",
            "ticks": ""
           },
           "bgcolor": "#E5ECF6",
           "caxis": {
            "gridcolor": "white",
            "linecolor": "white",
            "ticks": ""
           }
          },
          "title": {
           "x": 0.05
          },
          "xaxis": {
           "automargin": true,
           "gridcolor": "white",
           "linecolor": "white",
           "ticks": "",
           "title": {
            "standoff": 15
           },
           "zerolinecolor": "white",
           "zerolinewidth": 2
          },
          "yaxis": {
           "automargin": true,
           "gridcolor": "white",
           "linecolor": "white",
           "ticks": "",
           "title": {
            "standoff": 15
           },
           "zerolinecolor": "white",
           "zerolinewidth": 2
          }
         }
        },
        "title": {
         "text": "Confirmados a partir do centésimo confirmado em diferentes cidades"
        },
        "width": 1100,
        "xaxis": {
         "title": {
          "text": "Dias após o centésimo confirmado"
         }
        },
        "yaxis": {
         "title": {
          "text": "Confirmados"
         },
         "type": "log"
        }
       }
      },
      "text/html": [
       "<div>\n",
       "        \n",
       "        \n",
       "            <div id=\"c29ec0c9-203b-4558-b7b4-56d0ea7ac2ae\" class=\"plotly-graph-div\" style=\"height:700px; width:1100px;\"></div>\n",
       "            <script type=\"text/javascript\">\n",
       "                require([\"plotly\"], function(Plotly) {\n",
       "                    window.PLOTLYENV=window.PLOTLYENV || {};\n",
       "                    \n",
       "                if (document.getElementById(\"c29ec0c9-203b-4558-b7b4-56d0ea7ac2ae\")) {\n",
       "                    Plotly.newPlot(\n",
       "                        'c29ec0c9-203b-4558-b7b4-56d0ea7ac2ae',\n",
       "                        [{\"hovertemplate\": \"<br><b>Dias</b>: %{x}<br><br><b>Confirmados</b>: %{y}\", \"mode\": \"lines\", \"name\": \"Nova York\", \"type\": \"scatter\", \"x\": [0, 1, 2, 3, 4, 5, 6, 7, 8, 9, 10, 11, 12, 13, 14, 15, 16, 17, 18, 19, 20, 21, 22, 23, 24, 25, 26, 27, 28, 29, 30, 31, 32, 33, 34, 35, 36, 37, 38, 39, 40, 41, 42, 43, 44, 45, 46, 47, 48, 49, 50, 51, 52, 53, 54, 55, 56, 57, 58, 59], \"y\": [155.0, 269.0, 330.0, 464.0, 646.0, 1344.0, 2477.0, 4419.0, 6226.0, 9065.0, 12329.0, 14943.0, 20061.0, 23182.0, 25509.0, 30919.0, 33983.0, 38375.0, 43518.0, 47914.0, 52400.0, 57941.0, 64274.0, 68726.0, 73553.0, 78498.0, 83673.0, 89127.0, 94702.0, 100840.0, 105939.0, 109706.0, 113632.0, 121653.0, 126623.0, 131003.0, 135052.0, 138370.0, 140881.0, 143547.0, 146787.0, 150327.0, 155081.0, 159851.0, 163106.0, 165463.0, 167487.0, 170124.0, 172784.0, 174931.0, 177490.0, 179728.0, 181034.0, 182318.0, 183770.0, 185653.0, 187157.0, 188663.0, 189656.0, 190546.0]}, {\"hovertemplate\": \"<br><b>Dias</b>: %{x}<br><br><b>Confirmados</b>: %{y}\", \"mode\": \"lines\", \"name\": \"Miami\", \"type\": \"scatter\", \"x\": [0, 1, 2, 3, 4, 5, 6, 7, 8, 9, 10, 11, 12, 13, 14, 15, 16, 17, 18, 19, 20, 21, 22, 23, 24, 25, 26, 27, 28, 29, 30, 31, 32, 33, 34, 35, 36, 37, 38, 39, 40, 41, 42, 43, 44, 45, 46, 47, 48, 49, 50, 51, 52, 53, 54, 55], \"y\": [109.0, 177.0, 225.0, 293.0, 390.0, 515.0, 627.0, 779.0, 1040.0, 1330.0, 1741.0, 2259.0, 2865.0, 3299.0, 3893.0, 4379.0, 5101.0, 5817.0, 6606.0, 7029.0, 7825.0, 8512.0, 9047.0, 9708.0, 10407.0, 11100.0, 11646.0, 12337.0, 12710.0, 13245.0, 13656.0, 14597.0, 15018.0, 15492.0, 15992.0, 16541.0, 16781.0, 17570.0, 18114.0, 18275.0, 18774.0, 19124.0, 19552.0, 19733.0, 19977.0, 20571.0, 20966.0, 21214.0, 21783.0, 22103.0, 22401.0, 22846.0, 22964.0, 23416.0, 23732.0, 23935.0]}, {\"hovertemplate\": \"<br><b>Dias</b>: %{x}<br><br><b>Confirmados</b>: %{y}\", \"mode\": \"lines\", \"name\": \"Mil\\u00e3o\", \"type\": \"scatter\", \"x\": [0, 1, 2, 3, 4, 5, 6, 7, 8, 9, 10, 11, 12, 13, 14, 15, 16, 17, 18, 19, 20, 21, 22, 23, 24, 25, 26, 27, 28, 29, 30, 31, 32, 33, 34, 35, 36, 37, 38, 39, 40, 41, 42, 43, 44, 45, 46, 47, 48, 49, 50, 51, 52, 53, 54, 55, 56, 57, 58, 59, 60, 61, 62, 63, 64, 65, 66, 67, 68, 69], \"y\": [145.0, 197.0, 267.0, 361.0, 406.0, 506.0, 592.0, 925.0, 1146.0, 1307.0, 1551.0, 1750.0, 1983.0, 2326.0, 2644.0, 3278.0, 3804.0, 4672.0, 5096.0, 5326.0, 5701.0, 6074.0, 6922.0, 7469.0, 7783.0, 8329.0, 8676.0, 8911.0, 9522.0, 10004.0, 10391.0, 10819.0, 11230.0, 11538.0, 11787.0, 12039.0, 12479.0, 12748.0, 13268.0, 13680.0, 14161.0, 14350.0, 14675.0, 14952.0, 15277.0, 15546.0, 15825.0, 16112.0, 16520.0, 17000.0, 17277.0, 17689.0, 17908.0, 18371.0, 18559.0, 18837.0, 19121.0, 19337.0, 19701.0, 19950.0, 20068.0, 20254.0, 20398.0, 20711.0, 20893.0, 21094.0, 21272.0, 21376.0, 21490.0, 21626.0]}, {\"hovertemplate\": \"<br><b>Dias</b>: %{x}<br><br><b>Confirmados</b>: %{y}\", \"mode\": \"lines\", \"name\": \"Madri\", \"type\": \"scatter\", \"x\": [0, 1, 2, 3, 4, 5, 6, 7, 8, 9, 10, 11, 12, 13, 14, 15, 16, 17, 18, 19, 20, 21, 22, 23, 24, 25, 26, 27, 28, 29, 30, 31, 32, 33, 34, 35, 36, 37, 38, 39, 40, 41, 42, 43, 44, 45, 46, 47, 48, 49, 50, 51, 52, 53, 54, 55, 56, 57, 58, 59, 60, 61, 62, 63, 64, 65, 66, 67, 68, 69], \"y\": [140, 194, 306, 509, 730, 993, 1496, 2200, 2925, 3709, 4649, 5548, 6360, 7619, 9566, 11315, 13359, 15680, 17354, 18856, 21524, 24413, 27354, 30720, 33078, 34098, 34970, 37514, 39313, 41088, 42911, 44633, 45518, 46038, 47594, 48977, 50388, 51331, 52182, 52716, 53053, 54027, 55104, 56000, 56832, 57639, 60599, 60993, 61609, 62481, 63597, 64162, 64825, 65055, 65516, 66281, 66928, 67377, 67772, 67888, 68005, 68115, 68507, 68805, 69174, 69397, 69666, 69764, 69801, 69849]}, {\"hovertemplate\": \"<br><b>Dias</b>: %{x}<br><br><b>Confirmados</b>: %{y}\", \"mode\": \"lines\", \"name\": \"S\\u00e3o Paulo\", \"type\": \"scatter\", \"x\": [0, 1, 2, 3, 4, 5, 6, 7, 8, 9, 10, 11, 12, 13, 14, 15, 16, 17, 18, 19, 20, 21, 22, 23, 24, 25, 26, 27, 28, 29, 30, 31, 32, 33, 34, 35, 36, 37, 38, 39, 40, 41, 42, 43, 44, 45, 46, 47, 48, 49], \"y\": [156, 214, 259, 306, 722, 899, 1044, 1233, 1885, 2418, 2815, 3202, 3496, 3612, 3754, 4258, 4947, 5477, 5982, 6131, 6352, 6418, 6705, 7764, 7908, 8744, 9428, 9668, 9815, 10342, 10691, 11225, 11800, 13098, 13513, 13989, 15397, 16638, 18149, 19087, 19494, 19822, 20073, 21140, 23187, 24273, 25367, 26787, 27307, 27771]}, {\"hovertemplate\": \"<br><b>Dias</b>: %{x}<br><br><b>Confirmados</b>: %{y}\", \"mode\": \"lines+markers\", \"name\": \"Rio de Janeiro\", \"type\": \"scatter\", \"x\": [0, 1, 2, 3, 4, 5, 6, 7, 8, 9, 10, 11, 12, 13, 14, 15, 16, 17, 18, 19, 20, 21, 22, 23, 24, 25, 26, 27, 28, 29, 30, 31, 32, 33, 34, 35, 36, 37, 38, 39, 40, 41, 42, 43, 44, 45, 46, 47, 48, 49], \"y\": [212, 276, 331, 368, 431, 489, 516, 553, 586, 697, 798, 867, 982, 1068, 1110, 1251, 1449, 1633, 1808, 1905, 1996, 2322, 2393, 2519, 2659, 2946, 3059, 3126, 3243, 3587, 3656, 4027, 4091, 4481, 4498, 5261, 5554, 5689, 5903, 6189, 6448, 6750, 7283, 7832, 8577, 9051, 9672, 10479, 10520, 10619]}, {\"hovertemplate\": \"<br><b>Dias</b>: %{x}<br><br><b>Confirmados</b>: %{y}\", \"mode\": \"lines\", \"name\": \"Seul\", \"type\": \"scatter\", \"x\": [0, 1, 2, 3, 4, 5, 6, 7, 8, 9, 10, 11, 12, 13, 14, 15, 16, 17, 18, 19, 20, 21, 22, 23, 24, 25, 26, 27, 28, 29, 30, 31, 32, 33, 34, 35, 36, 37, 38, 39, 40, 41, 42, 43, 44, 45, 46, 47, 48, 49, 50, 51, 52, 53, 54, 55, 56, 57, 58, 59, 60, 61, 62, 63, 64, 65, 66], \"y\": [102, 114, 124, 135, 187, 206, 219, 232, 241, 247, 259, 264, 276, 293, 308, 318, 324, 328, 341, 354, 366, 384, 404, 420, 444, 468, 482, 500, 522, 546, 557, 561, 572, 584, 589, 593, 596, 604, 606, 611, 613, 615, 616, 618, 618, 620, 622, 622, 622, 623, 623, 623, 627, 627, 627, 628, 629, 631, 631, 631, 631, 631, 631, 643, 657, 677, 689]}, {\"hovertemplate\": \"<br><b>Dias</b>: %{x}<br><br><b>Confirmados</b>: %{y}\", \"mode\": \"lines\", \"name\": \"Dobra a cada dia\", \"type\": \"scatter\", \"y\": [100.0, 200.0, 400.0, 800.0, 1600.0, 3200.0, 6400.0, 12800.0, 25600.0, 51200.0, 102400.0, 204800.0, 409600.0, 819200.0]}, {\"hovertemplate\": \"<br><b>Dias</b>: %{x}<br><br><b>Confirmados</b>: %{y}\", \"mode\": \"lines\", \"name\": \"Dobra a cada dois dias\", \"type\": \"scatter\", \"y\": [100.0, 141.4213562373095, 200.00000000000006, 282.8427124746191, 400.0000000000001, 565.6854249492383, 800.0000000000003, 1131.3708498984765, 1600.0000000000007, 2262.741699796953, 3200.0000000000023, 4525.483399593907, 6400.0000000000055, 9050.966799187816, 12800.000000000011, 18101.933598375635, 25600.00000000003, 36203.86719675128, 51200.000000000065, 72407.73439350256, 102400.00000000013, 144815.46878700514, 204800.00000000032, 289630.93757401034, 409600.00000000064, 579261.8751480207, 819200.0000000014, 1158523.7502960416]}, {\"hovertemplate\": \"<br><b>Dias</b>: %{x}<br><br><b>Confirmados</b>: %{y}\", \"mode\": \"lines\", \"name\": \"Dobra a cada quatro dias\", \"type\": \"scatter\", \"y\": [100.0, 118.9207115002721, 141.42135623730948, 168.1792830507429, 199.99999999999997, 237.84142300054415, 282.84271247461896, 336.35856610148574, 399.9999999999999, 475.6828460010883, 565.6854249492378, 672.7171322029715, 799.9999999999997, 951.3656920021765, 1131.3708498984756, 1345.4342644059427, 1599.999999999999, 1902.7313840043525, 2262.741699796951, 2690.868528811885, 3199.9999999999977, 3805.4627680087046, 4525.483399593901, 5381.737057623769, 6399.999999999995, 7610.925536017409, 9050.9667991878, 10763.474115247536, 12799.999999999989, 15221.851072034815, 18101.9335983756, 21526.948230495072, 25599.99999999997, 30443.702144069623, 36203.86719675119, 43053.89646099013, 51199.999999999935, 60887.404288139245, 72407.73439350237, 86107.79292198025, 102399.99999999987, 121774.80857627848, 144815.46878700473, 172215.5858439605, 204799.9999999997, 243549.6171525569, 289630.9375740094, 344431.1716879209, 409599.99999999936, 487099.2343051137, 579261.8751480188, 688862.3433758417, 819199.9999999986, 974198.4686102275, 1158523.7502960374, 1377724.6867516832]}, {\"hovertemplate\": \"<br><b>Dias</b>: %{x}<br><br><b>Confirmados</b>: %{y}\", \"mode\": \"lines\", \"name\": \"Dobra a cada sete dias\", \"type\": \"scatter\", \"y\": [100.0, 110.40895136738122, 121.90136542044752, 134.59001926323558, 148.5994289136948, 164.06707120152754, 181.14473285278126, 199.9999999999999, 220.81790273476233, 243.8027308408949, 269.18003852647104, 297.1988578273894, 328.13414240305485, 362.2894657055623, 399.99999999999955, 441.6358054695245, 487.6054616817895, 538.3600770529417, 594.3977156547786, 656.2682848061094, 724.5789314111242, 799.9999999999986, 883.2716109390484, 975.2109233635786, 1076.7201541058828, 1188.7954313095565, 1312.536569612218, 1449.1578628222476, 1599.9999999999964, 1766.5432218780957, 1950.421846727156, 2153.4403082117647, 2377.5908626191112, 2625.0731392244347, 2898.315725644494, 3199.999999999991, 3533.086443756189, 3900.8436934543097, 4306.880616423527, 4755.18172523822, 5250.146278448866, 5796.631451288984, 6399.999999999979, 7066.172887512375, 7801.687386908616, 8613.761232847048, 9510.363450476436, 10500.292556897726, 11593.262902577962, 12799.99999999995, 14132.345775024743, 15603.374773817222, 17227.522465694088, 19020.72690095286, 21000.58511379544, 23186.52580515591, 25599.999999999887, 28264.69155004947, 31206.749547634427, 34455.04493138816, 38041.4538019057, 42001.17022759086, 46373.0516103118, 51199.999999999745, 56529.3831000989, 62413.499095268824, 68910.08986277627, 76082.90760381136, 84002.34045518168, 92746.10322062354]}],\n",
       "                        {\"height\": 700, \"template\": {\"data\": {\"bar\": [{\"error_x\": {\"color\": \"#2a3f5f\"}, \"error_y\": {\"color\": \"#2a3f5f\"}, \"marker\": {\"line\": {\"color\": \"#E5ECF6\", \"width\": 0.5}}, \"type\": \"bar\"}], \"barpolar\": [{\"marker\": {\"line\": {\"color\": \"#E5ECF6\", \"width\": 0.5}}, \"type\": \"barpolar\"}], \"carpet\": [{\"aaxis\": {\"endlinecolor\": \"#2a3f5f\", \"gridcolor\": \"white\", \"linecolor\": \"white\", \"minorgridcolor\": \"white\", \"startlinecolor\": \"#2a3f5f\"}, \"baxis\": {\"endlinecolor\": \"#2a3f5f\", \"gridcolor\": \"white\", \"linecolor\": \"white\", \"minorgridcolor\": \"white\", \"startlinecolor\": \"#2a3f5f\"}, \"type\": \"carpet\"}], \"choropleth\": [{\"colorbar\": {\"outlinewidth\": 0, \"ticks\": \"\"}, \"type\": \"choropleth\"}], \"contour\": [{\"colorbar\": {\"outlinewidth\": 0, \"ticks\": \"\"}, \"colorscale\": [[0.0, \"#0d0887\"], [0.1111111111111111, \"#46039f\"], [0.2222222222222222, \"#7201a8\"], [0.3333333333333333, \"#9c179e\"], [0.4444444444444444, \"#bd3786\"], [0.5555555555555556, \"#d8576b\"], [0.6666666666666666, \"#ed7953\"], [0.7777777777777778, \"#fb9f3a\"], [0.8888888888888888, \"#fdca26\"], [1.0, \"#f0f921\"]], \"type\": \"contour\"}], \"contourcarpet\": [{\"colorbar\": {\"outlinewidth\": 0, \"ticks\": \"\"}, \"type\": \"contourcarpet\"}], \"heatmap\": [{\"colorbar\": {\"outlinewidth\": 0, \"ticks\": \"\"}, \"colorscale\": [[0.0, \"#0d0887\"], [0.1111111111111111, \"#46039f\"], [0.2222222222222222, \"#7201a8\"], [0.3333333333333333, \"#9c179e\"], [0.4444444444444444, \"#bd3786\"], [0.5555555555555556, \"#d8576b\"], [0.6666666666666666, \"#ed7953\"], [0.7777777777777778, \"#fb9f3a\"], [0.8888888888888888, \"#fdca26\"], [1.0, \"#f0f921\"]], \"type\": \"heatmap\"}], \"heatmapgl\": [{\"colorbar\": {\"outlinewidth\": 0, \"ticks\": \"\"}, \"colorscale\": [[0.0, \"#0d0887\"], [0.1111111111111111, \"#46039f\"], [0.2222222222222222, \"#7201a8\"], [0.3333333333333333, \"#9c179e\"], [0.4444444444444444, \"#bd3786\"], [0.5555555555555556, \"#d8576b\"], [0.6666666666666666, \"#ed7953\"], [0.7777777777777778, \"#fb9f3a\"], [0.8888888888888888, \"#fdca26\"], [1.0, \"#f0f921\"]], \"type\": \"heatmapgl\"}], \"histogram\": [{\"marker\": {\"colorbar\": {\"outlinewidth\": 0, \"ticks\": \"\"}}, \"type\": \"histogram\"}], \"histogram2d\": [{\"colorbar\": {\"outlinewidth\": 0, \"ticks\": \"\"}, \"colorscale\": [[0.0, \"#0d0887\"], [0.1111111111111111, \"#46039f\"], [0.2222222222222222, \"#7201a8\"], [0.3333333333333333, \"#9c179e\"], [0.4444444444444444, \"#bd3786\"], [0.5555555555555556, \"#d8576b\"], [0.6666666666666666, \"#ed7953\"], [0.7777777777777778, \"#fb9f3a\"], [0.8888888888888888, \"#fdca26\"], [1.0, \"#f0f921\"]], \"type\": \"histogram2d\"}], \"histogram2dcontour\": [{\"colorbar\": {\"outlinewidth\": 0, \"ticks\": \"\"}, \"colorscale\": [[0.0, \"#0d0887\"], [0.1111111111111111, \"#46039f\"], [0.2222222222222222, \"#7201a8\"], [0.3333333333333333, \"#9c179e\"], [0.4444444444444444, \"#bd3786\"], [0.5555555555555556, \"#d8576b\"], [0.6666666666666666, \"#ed7953\"], [0.7777777777777778, \"#fb9f3a\"], [0.8888888888888888, \"#fdca26\"], [1.0, \"#f0f921\"]], \"type\": \"histogram2dcontour\"}], \"mesh3d\": [{\"colorbar\": {\"outlinewidth\": 0, \"ticks\": \"\"}, \"type\": \"mesh3d\"}], \"parcoords\": [{\"line\": {\"colorbar\": {\"outlinewidth\": 0, \"ticks\": \"\"}}, \"type\": \"parcoords\"}], \"pie\": [{\"automargin\": true, \"type\": \"pie\"}], \"scatter\": [{\"marker\": {\"colorbar\": {\"outlinewidth\": 0, \"ticks\": \"\"}}, \"type\": \"scatter\"}], \"scatter3d\": [{\"line\": {\"colorbar\": {\"outlinewidth\": 0, \"ticks\": \"\"}}, \"marker\": {\"colorbar\": {\"outlinewidth\": 0, \"ticks\": \"\"}}, \"type\": \"scatter3d\"}], \"scattercarpet\": [{\"marker\": {\"colorbar\": {\"outlinewidth\": 0, \"ticks\": \"\"}}, \"type\": \"scattercarpet\"}], \"scattergeo\": [{\"marker\": {\"colorbar\": {\"outlinewidth\": 0, \"ticks\": \"\"}}, \"type\": \"scattergeo\"}], \"scattergl\": [{\"marker\": {\"colorbar\": {\"outlinewidth\": 0, \"ticks\": \"\"}}, \"type\": \"scattergl\"}], \"scattermapbox\": [{\"marker\": {\"colorbar\": {\"outlinewidth\": 0, \"ticks\": \"\"}}, \"type\": \"scattermapbox\"}], \"scatterpolar\": [{\"marker\": {\"colorbar\": {\"outlinewidth\": 0, \"ticks\": \"\"}}, \"type\": \"scatterpolar\"}], \"scatterpolargl\": [{\"marker\": {\"colorbar\": {\"outlinewidth\": 0, \"ticks\": \"\"}}, \"type\": \"scatterpolargl\"}], \"scatterternary\": [{\"marker\": {\"colorbar\": {\"outlinewidth\": 0, \"ticks\": \"\"}}, \"type\": \"scatterternary\"}], \"surface\": [{\"colorbar\": {\"outlinewidth\": 0, \"ticks\": \"\"}, \"colorscale\": [[0.0, \"#0d0887\"], [0.1111111111111111, \"#46039f\"], [0.2222222222222222, \"#7201a8\"], [0.3333333333333333, \"#9c179e\"], [0.4444444444444444, \"#bd3786\"], [0.5555555555555556, \"#d8576b\"], [0.6666666666666666, \"#ed7953\"], [0.7777777777777778, \"#fb9f3a\"], [0.8888888888888888, \"#fdca26\"], [1.0, \"#f0f921\"]], \"type\": \"surface\"}], \"table\": [{\"cells\": {\"fill\": {\"color\": \"#EBF0F8\"}, \"line\": {\"color\": \"white\"}}, \"header\": {\"fill\": {\"color\": \"#C8D4E3\"}, \"line\": {\"color\": \"white\"}}, \"type\": \"table\"}]}, \"layout\": {\"annotationdefaults\": {\"arrowcolor\": \"#2a3f5f\", \"arrowhead\": 0, \"arrowwidth\": 1}, \"coloraxis\": {\"colorbar\": {\"outlinewidth\": 0, \"ticks\": \"\"}}, \"colorscale\": {\"diverging\": [[0, \"#8e0152\"], [0.1, \"#c51b7d\"], [0.2, \"#de77ae\"], [0.3, \"#f1b6da\"], [0.4, \"#fde0ef\"], [0.5, \"#f7f7f7\"], [0.6, \"#e6f5d0\"], [0.7, \"#b8e186\"], [0.8, \"#7fbc41\"], [0.9, \"#4d9221\"], [1, \"#276419\"]], \"sequential\": [[0.0, \"#0d0887\"], [0.1111111111111111, \"#46039f\"], [0.2222222222222222, \"#7201a8\"], [0.3333333333333333, \"#9c179e\"], [0.4444444444444444, \"#bd3786\"], [0.5555555555555556, \"#d8576b\"], [0.6666666666666666, \"#ed7953\"], [0.7777777777777778, \"#fb9f3a\"], [0.8888888888888888, \"#fdca26\"], [1.0, \"#f0f921\"]], \"sequentialminus\": [[0.0, \"#0d0887\"], [0.1111111111111111, \"#46039f\"], [0.2222222222222222, \"#7201a8\"], [0.3333333333333333, \"#9c179e\"], [0.4444444444444444, \"#bd3786\"], [0.5555555555555556, \"#d8576b\"], [0.6666666666666666, \"#ed7953\"], [0.7777777777777778, \"#fb9f3a\"], [0.8888888888888888, \"#fdca26\"], [1.0, \"#f0f921\"]]}, \"colorway\": [\"#636efa\", \"#EF553B\", \"#00cc96\", \"#ab63fa\", \"#FFA15A\", \"#19d3f3\", \"#FF6692\", \"#B6E880\", \"#FF97FF\", \"#FECB52\"], \"font\": {\"color\": \"#2a3f5f\"}, \"geo\": {\"bgcolor\": \"white\", \"lakecolor\": \"white\", \"landcolor\": \"#E5ECF6\", \"showlakes\": true, \"showland\": true, \"subunitcolor\": \"white\"}, \"hoverlabel\": {\"align\": \"left\"}, \"hovermode\": \"closest\", \"mapbox\": {\"style\": \"light\"}, \"paper_bgcolor\": \"white\", \"plot_bgcolor\": \"#E5ECF6\", \"polar\": {\"angularaxis\": {\"gridcolor\": \"white\", \"linecolor\": \"white\", \"ticks\": \"\"}, \"bgcolor\": \"#E5ECF6\", \"radialaxis\": {\"gridcolor\": \"white\", \"linecolor\": \"white\", \"ticks\": \"\"}}, \"scene\": {\"xaxis\": {\"backgroundcolor\": \"#E5ECF6\", \"gridcolor\": \"white\", \"gridwidth\": 2, \"linecolor\": \"white\", \"showbackground\": true, \"ticks\": \"\", \"zerolinecolor\": \"white\"}, \"yaxis\": {\"backgroundcolor\": \"#E5ECF6\", \"gridcolor\": \"white\", \"gridwidth\": 2, \"linecolor\": \"white\", \"showbackground\": true, \"ticks\": \"\", \"zerolinecolor\": \"white\"}, \"zaxis\": {\"backgroundcolor\": \"#E5ECF6\", \"gridcolor\": \"white\", \"gridwidth\": 2, \"linecolor\": \"white\", \"showbackground\": true, \"ticks\": \"\", \"zerolinecolor\": \"white\"}}, \"shapedefaults\": {\"line\": {\"color\": \"#2a3f5f\"}}, \"ternary\": {\"aaxis\": {\"gridcolor\": \"white\", \"linecolor\": \"white\", \"ticks\": \"\"}, \"baxis\": {\"gridcolor\": \"white\", \"linecolor\": \"white\", \"ticks\": \"\"}, \"bgcolor\": \"#E5ECF6\", \"caxis\": {\"gridcolor\": \"white\", \"linecolor\": \"white\", \"ticks\": \"\"}}, \"title\": {\"x\": 0.05}, \"xaxis\": {\"automargin\": true, \"gridcolor\": \"white\", \"linecolor\": \"white\", \"ticks\": \"\", \"title\": {\"standoff\": 15}, \"zerolinecolor\": \"white\", \"zerolinewidth\": 2}, \"yaxis\": {\"automargin\": true, \"gridcolor\": \"white\", \"linecolor\": \"white\", \"ticks\": \"\", \"title\": {\"standoff\": 15}, \"zerolinecolor\": \"white\", \"zerolinewidth\": 2}}}, \"title\": {\"text\": \"Confirmados a partir do cent\\u00e9simo confirmado em diferentes cidades\"}, \"width\": 1100, \"xaxis\": {\"title\": {\"text\": \"Dias ap\\u00f3s o cent\\u00e9simo confirmado\"}}, \"yaxis\": {\"title\": {\"text\": \"Confirmados\"}, \"type\": \"log\"}},\n",
       "                        {\"responsive\": true}\n",
       "                    ).then(function(){\n",
       "                            \n",
       "var gd = document.getElementById('c29ec0c9-203b-4558-b7b4-56d0ea7ac2ae');\n",
       "var x = new MutationObserver(function (mutations, observer) {{\n",
       "        var display = window.getComputedStyle(gd).display;\n",
       "        if (!display || display === 'none') {{\n",
       "            console.log([gd, 'removed!']);\n",
       "            Plotly.purge(gd);\n",
       "            observer.disconnect();\n",
       "        }}\n",
       "}});\n",
       "\n",
       "// Listen for the removal of the full notebook cells\n",
       "var notebookContainer = gd.closest('#notebook-container');\n",
       "if (notebookContainer) {{\n",
       "    x.observe(notebookContainer, {childList: true});\n",
       "}}\n",
       "\n",
       "// Listen for the clearing of the current output cell\n",
       "var outputEl = gd.closest('.output');\n",
       "if (outputEl) {{\n",
       "    x.observe(outputEl, {childList: true});\n",
       "}}\n",
       "\n",
       "                        })\n",
       "                };\n",
       "                });\n",
       "            </script>\n",
       "        </div>"
      ]
     },
     "metadata": {},
     "output_type": "display_data"
    }
   ],
   "source": [
    "fig = go.Figure()\n",
    "\n",
    "fig.add_trace(go.Scatter(\n",
    "    x=ny.index,\n",
    "    y=ny,\n",
    "    mode='lines',\n",
    "    hovertemplate = '<br><b>Dias</b>: %{x}<br>'\n",
    "                    '<br><b>Confirmados</b>: %{y}',\n",
    "    name=\"Nova York\"\n",
    "    )\n",
    ")\n",
    "fig.add_trace(go.Scatter(\n",
    "    x=mi.index,\n",
    "    y=mi,\n",
    "    mode='lines',\n",
    "    hovertemplate = '<br><b>Dias</b>: %{x}<br>'\n",
    "                    '<br><b>Confirmados</b>: %{y}',\n",
    "    name=\"Miami\"\n",
    "    )\n",
    ")\n",
    "fig.add_trace(go.Scatter(\n",
    "    x=mil.index,\n",
    "    y=mil,\n",
    "    mode='lines',\n",
    "    hovertemplate = '<br><b>Dias</b>: %{x}<br>'\n",
    "                    '<br><b>Confirmados</b>: %{y}',\n",
    "    name=\"Milão\"\n",
    "    )\n",
    ")\n",
    "fig.add_trace(go.Scatter(\n",
    "    x=mad.index,\n",
    "    y=mad,\n",
    "    mode='lines',\n",
    "    hovertemplate = '<br><b>Dias</b>: %{x}<br>'\n",
    "                    '<br><b>Confirmados</b>: %{y}',\n",
    "    name=\"Madri\"\n",
    "    )\n",
    ")\n",
    "fig.add_trace(go.Scatter(\n",
    "    x=sp.index,\n",
    "    y=sp,\n",
    "    mode='lines',\n",
    "    hovertemplate = '<br><b>Dias</b>: %{x}<br>'\n",
    "                    '<br><b>Confirmados</b>: %{y}',\n",
    "    name=\"São Paulo\"\n",
    "    )\n",
    ")\n",
    "fig.add_trace(go.Scatter(\n",
    "    x=rj.index,\n",
    "    y=rj,\n",
    "    mode='lines+markers',\n",
    "    hovertemplate = '<br><b>Dias</b>: %{x}<br>'\n",
    "                    '<br><b>Confirmados</b>: %{y}',\n",
    "    name=\"Rio de Janeiro\"\n",
    "    )\n",
    ")\n",
    "fig.add_trace(go.Scatter(\n",
    "    x=seoul.index,\n",
    "    y=seoul,\n",
    "    mode='lines',\n",
    "    hovertemplate = '<br><b>Dias</b>: %{x}<br>'\n",
    "                    '<br><b>Confirmados</b>: %{y}',\n",
    "    name=\"Seul\"\n",
    "    )\n",
    ")\n",
    "fig.add_trace(go.Scatter(\n",
    "    y=doubling_1day,\n",
    "    mode='lines',\n",
    "    hovertemplate = '<br><b>Dias</b>: %{x}<br>'\n",
    "                    '<br><b>Confirmados</b>: %{y}',\n",
    "    name=\"Dobra a cada dia\"\n",
    "    )\n",
    ")\n",
    "fig.add_trace(go.Scatter(\n",
    "    y=doubling_2days,\n",
    "    mode='lines',\n",
    "    hovertemplate = '<br><b>Dias</b>: %{x}<br>'\n",
    "                    '<br><b>Confirmados</b>: %{y}',\n",
    "    name=\"Dobra a cada dois dias\"\n",
    "    )\n",
    ")\n",
    "fig.add_trace(go.Scatter(\n",
    "    y=doubling_4days,\n",
    "    mode='lines',\n",
    "    hovertemplate = '<br><b>Dias</b>: %{x}<br>'\n",
    "                    '<br><b>Confirmados</b>: %{y}',\n",
    "    name=\"Dobra a cada quatro dias\"\n",
    "    )\n",
    ")\n",
    "fig.add_trace(go.Scatter(\n",
    "    y=doubling_7days[:len(mil)+5],\n",
    "    mode='lines',\n",
    "    hovertemplate = '<br><b>Dias</b>: %{x}<br>'\n",
    "                    '<br><b>Confirmados</b>: %{y}',\n",
    "    name=\"Dobra a cada sete dias\"\n",
    "    )\n",
    ")\n",
    "\n",
    "fig.update_layout(title=\"Confirmados a partir do centésimo confirmado em diferentes cidades\",\n",
    "    xaxis_title=\"Dias após o centésimo confirmado\",\n",
    "    yaxis_title=\"Confirmados\",\n",
    "    width=1100,\n",
    "    height=700,\n",
    "    )\n",
    "\n",
    "fig.update_yaxes(type=\"log\")\n",
    "fig.show()\n",
    "fig.write_html(\"./plots/confirmados.html\")"
   ]
  },
  {
   "cell_type": "markdown",
   "metadata": {},
   "source": [
    "# Óbitos"
   ]
  },
  {
   "cell_type": "markdown",
   "metadata": {},
   "source": [
    "## Estados Unidos"
   ]
  },
  {
   "cell_type": "code",
   "execution_count": 46,
   "metadata": {},
   "outputs": [],
   "source": [
    "threshold_obitos = 20\n",
    "\n",
    "##################################### EXTRAÇÃO DOS DADOS\n",
    "\n",
    "url = 'https://raw.githubusercontent.com/nytimes/covid-19-data/master/us-counties.csv'\n",
    "data_us = pd.read_csv(url, error_bad_lines=False)\n",
    "\n"
   ]
  },
  {
   "cell_type": "code",
   "execution_count": 47,
   "metadata": {},
   "outputs": [],
   "source": [
    "dates = data_us['date'].unique()\n",
    "ndates = len(dates)\n",
    "counties = data_us['county'].unique()\n",
    "ncounties = len(counties)\n",
    "\n",
    "covid_us = pd.DataFrame(np.zeros((ndates,ncounties)))\n",
    "covid_us.columns = counties\n",
    "covid_us.index = dates\n",
    "data_us.index = data_us['date']\n",
    "\n",
    "for index, row in data_us.iterrows():\n",
    "    covid_us.at[index,row['county']] = row['deaths']\n",
    "\n",
    "###################################### DEFINIÇÃO VARIAVEIS POR CONDADO\n",
    "    \n",
    "ny_deaths, la_deaths = covid_us['New York City'], covid_us['Los Angeles']\n",
    "ny_deaths, la_deaths = ny_deaths.loc[ny_deaths>=threshold_obitos].reset_index(drop=True), la_deaths.loc[la_deaths>=threshold_obitos].reset_index(drop=True)\n",
    "\n",
    "mi_deaths = covid_us['Miami-Dade']\n",
    "mi_deaths = mi_deaths.loc[mi_deaths>=threshold_obitos].reset_index(drop=True)"
   ]
  },
  {
   "cell_type": "markdown",
   "metadata": {},
   "source": [
    "## Itália"
   ]
  },
  {
   "cell_type": "markdown",
   "metadata": {},
   "source": [
    "### Milão"
   ]
  },
  {
   "cell_type": "code",
   "execution_count": 48,
   "metadata": {},
   "outputs": [],
   "source": [
    "# ################# EXTRAÇÃO DOS DADOS\n",
    "\n",
    "# url_it = 'https://raw.githubusercontent.com/pcm-dpc/COVID-19/master/dati-province/dpc-covid19-ita-province.csv'\n",
    "# data_it = pd.read_csv(url_it, error_bad_lines=False)\n",
    "\n",
    "# dates = data_it['data'].unique()\n",
    "# ndates = len(dates)\n",
    "# provs = data_it['denominazione_provincia'].unique()\n",
    "# nprovs = len(provs)\n",
    "\n",
    "# covid_it = pd.DataFrame(np.zeros((ndates,nprovs)))\n",
    "# covid_it.columns = provs\n",
    "# covid_it.index = dates\n",
    "# data_it.index = data_it['data']\n",
    "\n",
    "# for index, row in data_it.iterrows():\n",
    "#     covid_it.at[index,row['denominazione_provincia']] = row['totale_casi']\n",
    "\n",
    "# mil = covid_it['Milano']\n",
    "# mil = mil.loc[mil>=threshold].reset_index(drop=True)"
   ]
  },
  {
   "cell_type": "markdown",
   "metadata": {},
   "source": [
    "### Região da Lombardia"
   ]
  },
  {
   "cell_type": "code",
   "execution_count": 49,
   "metadata": {},
   "outputs": [],
   "source": [
    "################# EXTRAÇÃO DOS DADOS\n",
    "import re\n",
    "url = \"https://en.wikipedia.org/wiki/Template:2019%E2%80%9320_coronavirus_pandemic_data/Italy_medical_cases\"\n",
    "dfs = pd.read_html(url, attrs={\"class\":\"wikitable mw-collapsible\"})\n",
    "df = dfs[0]\n",
    "df = df[:-7]\n",
    "colunas = []\n",
    "\n",
    "for column in df.columns:\n",
    "    colunas.append(column[1])\n",
    "\n",
    "df.columns = colunas\n",
    "df.set_index(\"Date\", inplace=True)\n",
    "df.index = pd.to_datetime(df.index)\n",
    "novas_colunas = df.columns[:-10]\n",
    "df_new = df[novas_colunas]\n",
    "\n",
    "# Tirando os valores entre parênteses\n",
    "\n",
    "lom = df_new[\"LOM\"].loc[df_new[\"LOM\"].str.contains(\"(\",case=False, na=False, regex=False)]\n",
    "lom_deaths = []\n",
    "\n",
    "for string in lom:\n",
    "    x = re.findall(r'\\((.*?)\\)', string)\n",
    "    lom_deaths.append(x[0])\n",
    "\n",
    "lom_deaths = pd.DataFrame({\"Lom_deaths\":lom_deaths})\n",
    "lom_deaths = lom_deaths.apply(pd.to_numeric).cumsum()\n",
    "lom_deaths = lom_deaths[\"Lom_deaths\"]\n",
    "lom_deaths = lom_deaths[lom_deaths>=threshold_obitos].reset_index(drop=True)"
   ]
  },
  {
   "cell_type": "code",
   "execution_count": 50,
   "metadata": {},
   "outputs": [
    {
     "data": {
      "image/png": "[encoded data removed]",
      "text/plain": [
       "<Figure size 648x432 with 1 Axes>"
      ]
     },
     "metadata": {},
     "output_type": "display_data"
    }
   ],
   "source": [
    "plt.figure(figsize=(9,6))\n",
    "plt.title(\"Óbitos confirmados a partir do vigésimo confirmado em diferentes cidades\")\n",
    "plt.xlabel(\"Dias a partir do vigésimo óbito\")\n",
    "plt.ylabel(\"Óbitos\")\n",
    "#plt.plot(doubling_1day, '--', label = \"Casos dobram a cada dia\")\n",
    "#plt.plot(doubling_2days, '--' , label = \"Casos dobram a cada 2 dias\")\n",
    "#plt.plot(doubling_4days, '--', label = \"Casos dobram a cada 4 dias\")\n",
    "#plt.plot(doubling_7days, '--', label = \"Casos dobram a cada semana\")\n",
    "plt.plot(ny_deaths, label='Nova Iorque')\n",
    "plt.plot(mi_deaths, label='Miami')\n",
    "plt.plot(la_deaths, label='Los Angeles')\n",
    "plt.plot(lom_deaths, label='Lombardia')\n",
    "#plt.plot(mad, label='Madri')\n",
    "#plt.plot(sp, label='São Paulo')\n",
    "#plt.plot(rj, label='Rio de Janeiro')\n",
    "#plt.plot(seoul, label='Seul')\n",
    "plt.yscale('log')\n",
    "plt.legend(loc=\"upper left\", bbox_to_anchor=(1,1))\n",
    "\n",
    "plt.show()"
   ]
  },
  {
   "cell_type": "code",
   "execution_count": 51,
   "metadata": {},
   "outputs": [
    {
     "data": {
      "application/vnd.plotly.v1+json": {
       "config": {
        "plotlyServerURL": "https://plot.ly"
       },
       "data": [
        {
         "hovertemplate": "<br><b>Dias</b>: %{x}<br><br><b>Óbitos</b>: %{y}",
         "mode": "lines",
         "name": "Nova York",
         "type": "scatter",
         "x": [
          0,
          1,
          2,
          3,
          4,
          5,
          6,
          7,
          8,
          9,
          10,
          11,
          12,
          13,
          14,
          15,
          16,
          17,
          18,
          19,
          20,
          21,
          22,
          23,
          24,
          25,
          26,
          27,
          28,
          29,
          30,
          31,
          32,
          33,
          34,
          35,
          36,
          37,
          38,
          39,
          40,
          41,
          42,
          43,
          44,
          45,
          46,
          47,
          48,
          49,
          50,
          51,
          52,
          53
         ],
         "y": [
          25,
          31,
          54,
          75,
          119,
          155,
          230,
          330,
          435,
          560,
          825,
          991,
          1202,
          1475,
          1848,
          2152,
          2648,
          3221,
          3646,
          4857,
          5631,
          6441,
          7249,
          7981,
          8734,
          9448,
          10096,
          10857,
          11566,
          12109,
          12283,
          12411,
          13632,
          14074,
          14513,
          14959,
          15361,
          15754,
          16146,
          16486,
          16821,
          17206,
          17597,
          17809,
          17931,
          18021,
          18451,
          18580,
          18719,
          18993,
          19141,
          19210,
          19324,
          19436
         ]
        },
        {
         "hovertemplate": "<br><b>Dias</b>: %{x}<br><br><b>Óbitos</b>: %{y}",
         "mode": "lines",
         "name": "Miami",
         "type": "scatter",
         "x": [
          0,
          1,
          2,
          3,
          4,
          5,
          6,
          7,
          8,
          9,
          10,
          11,
          12,
          13,
          14,
          15,
          16,
          17,
          18,
          19,
          20,
          21,
          22,
          23,
          24,
          25,
          26,
          27,
          28,
          29,
          30,
          31,
          32,
          33,
          34,
          35,
          36,
          37,
          38
         ],
         "y": [
          20,
          25,
          31,
          31,
          41,
          47,
          50,
          66,
          84,
          93,
          97,
          109,
          143,
          155,
          183,
          195,
          198,
          207,
          223,
          233,
          240,
          270,
          287,
          295,
          301,
          302,
          324,
          338,
          352,
          358,
          367,
          369,
          378,
          407,
          432,
          454,
          468,
          482,
          487
         ]
        },
        {
         "hovertemplate": "<br><b>Dias</b>: %{x}<br><br><b>Óbitos</b>: %{y}",
         "mode": "lines",
         "name": "Los Angeles",
         "type": "scatter",
         "x": [
          0,
          1,
          2,
          3,
          4,
          5,
          6,
          7,
          8,
          9,
          10,
          11,
          12,
          13,
          14,
          15,
          16,
          17,
          18,
          19,
          20,
          21,
          22,
          23,
          24,
          25,
          26,
          27,
          28,
          29,
          30,
          31,
          32,
          33,
          34,
          35,
          36,
          37,
          38,
          39,
          40,
          41,
          42,
          43,
          44,
          45
         ],
         "y": [
          21,
          27,
          33,
          37,
          44,
          54,
          65,
          78,
          89,
          117,
          132,
          147,
          169,
          198,
          223,
          241,
          265,
          296,
          320,
          360,
          402,
          455,
          495,
          576,
          600,
          617,
          663,
          729,
          797,
          850,
          895,
          913,
          942,
          1000,
          1056,
          1111,
          1172,
          1209,
          1229,
          1256,
          1313,
          1367,
          1418,
          1468,
          1512,
          1530
         ]
        },
        {
         "hovertemplate": "<br><b>Dias</b>: %{x}<br><br><b>Óbitos</b>: %{y}",
         "mode": "lines",
         "name": "Lombardia",
         "type": "scatter",
         "x": [
          0,
          1,
          2,
          3,
          4,
          5,
          6,
          7,
          8,
          9,
          10,
          11,
          12,
          13,
          14,
          15,
          16,
          17,
          18,
          19,
          20,
          21,
          22,
          23,
          24,
          25,
          26,
          27,
          28,
          29,
          30,
          31,
          32,
          33,
          34,
          35,
          36,
          37,
          38,
          39,
          40,
          41,
          42,
          43,
          44,
          45,
          46,
          47,
          48,
          49,
          50,
          51,
          52,
          53,
          54,
          55,
          56,
          57,
          58,
          59,
          60,
          61,
          62,
          63,
          64,
          65,
          66,
          67,
          68,
          69
         ],
         "y": [
          23,
          24,
          38,
          55,
          73,
          98,
          135,
          154,
          267,
          333,
          468,
          617,
          744,
          890,
          966,
          1218,
          1420,
          1640,
          1959,
          2168,
          2549,
          3095,
          3456,
          3776,
          4178,
          4474,
          4861,
          5402,
          5944,
          6360,
          6818,
          7199,
          7593,
          7960,
          8311,
          8656,
          8905,
          9202,
          9484,
          9722,
          10022,
          10238,
          10511,
          10621,
          10901,
          11142,
          11377,
          11608,
          11851,
          12050,
          12213,
          12376,
          12579,
          12740,
          12940,
          13106,
          13269,
          13325,
          13449,
          13575,
          13679,
          13772,
          13860,
          14189,
          14231,
          14294,
          14389,
          14611,
          14745,
          14839
         ]
        }
       ],
       "layout": {
        "height": 700,
        "template": {
         "data": {
          "bar": [
           {
            "error_x": {
             "color": "#2a3f5f"
            },
            "error_y": {
             "color": "#2a3f5f"
            },
            "marker": {
             "line": {
              "color": "#E5ECF6",
              "width": 0.5
             }
            },
            "type": "bar"
           }
          ],
          "barpolar": [
           {
            "marker": {
             "line": {
              "color": "#E5ECF6",
              "width": 0.5
             }
            },
            "type": "barpolar"
           }
          ],
          "carpet": [
           {
            "aaxis": {
             "endlinecolor": "#2a3f5f",
             "gridcolor": "white",
             "linecolor": "white",
             "minorgridcolor": "white",
             "startlinecolor": "#2a3f5f"
            },
            "baxis": {
             "endlinecolor": "#2a3f5f",
             "gridcolor": "white",
             "linecolor": "white",
             "minorgridcolor": "white",
             "startlinecolor": "#2a3f5f"
            },
            "type": "carpet"
           }
          ],
          "choropleth": [
           {
            "colorbar": {
             "outlinewidth": 0,
             "ticks": ""
            },
            "type": "choropleth"
           }
          ],
          "contour": [
           {
            "colorbar": {
             "outlinewidth": 0,
             "ticks": ""
            },
            "colorscale": [
             [
              0,
              "#0d0887"
             ],
             [
              0.1111111111111111,
              "#46039f"
             ],
             [
              0.2222222222222222,
              "#7201a8"
             ],
             [
              0.3333333333333333,
              "#9c179e"
             ],
             [
              0.4444444444444444,
              "#bd3786"
             ],
             [
              0.5555555555555556,
              "#d8576b"
             ],
             [
              0.6666666666666666,
              "#ed7953"
             ],
             [
              0.7777777777777778,
              "#fb9f3a"
             ],
             [
              0.8888888888888888,
              "#fdca26"
             ],
             [
              1,
              "#f0f921"
             ]
            ],
            "type": "contour"
           }
          ],
          "contourcarpet": [
           {
            "colorbar": {
             "outlinewidth": 0,
             "ticks": ""
            },
            "type": "contourcarpet"
           }
          ],
          "heatmap": [
           {
            "colorbar": {
             "outlinewidth": 0,
             "ticks": ""
            },
            "colorscale": [
             [
              0,
              "#0d0887"
             ],
             [
              0.1111111111111111,
              "#46039f"
             ],
             [
              0.2222222222222222,
              "#7201a8"
             ],
             [
              0.3333333333333333,
              "#9c179e"
             ],
             [
              0.4444444444444444,
              "#bd3786"
             ],
             [
              0.5555555555555556,
              "#d8576b"
             ],
             [
              0.6666666666666666,
              "#ed7953"
             ],
             [
              0.7777777777777778,
              "#fb9f3a"
             ],
             [
              0.8888888888888888,
              "#fdca26"
             ],
             [
              1,
              "#f0f921"
             ]
            ],
            "type": "heatmap"
           }
          ],
          "heatmapgl": [
           {
            "colorbar": {
             "outlinewidth": 0,
             "ticks": ""
            },
            "colorscale": [
             [
              0,
              "#0d0887"
             ],
             [
              0.1111111111111111,
              "#46039f"
             ],
             [
              0.2222222222222222,
              "#7201a8"
             ],
             [
              0.3333333333333333,
              "#9c179e"
             ],
             [
              0.4444444444444444,
              "#bd3786"
             ],
             [
              0.5555555555555556,
              "#d8576b"
             ],
             [
              0.6666666666666666,
              "#ed7953"
             ],
             [
              0.7777777777777778,
              "#fb9f3a"
             ],
             [
              0.8888888888888888,
              "#fdca26"
             ],
             [
              1,
              "#f0f921"
             ]
            ],
            "type": "heatmapgl"
           }
          ],
          "histogram": [
           {
            "marker": {
             "colorbar": {
              "outlinewidth": 0,
              "ticks": ""
             }
            },
            "type": "histogram"
           }
          ],
          "histogram2d": [
           {
            "colorbar": {
             "outlinewidth": 0,
             "ticks": ""
            },
            "colorscale": [
             [
              0,
              "#0d0887"
             ],
             [
              0.1111111111111111,
              "#46039f"
             ],
             [
              0.2222222222222222,
              "#7201a8"
             ],
             [
              0.3333333333333333,
              "#9c179e"
             ],
             [
              0.4444444444444444,
              "#bd3786"
             ],
             [
              0.5555555555555556,
              "#d8576b"
             ],
             [
              0.6666666666666666,
              "#ed7953"
             ],
             [
              0.7777777777777778,
              "#fb9f3a"
             ],
             [
              0.8888888888888888,
              "#fdca26"
             ],
             [
              1,
              "#f0f921"
             ]
            ],
            "type": "histogram2d"
           }
          ],
          "histogram2dcontour": [
           {
            "colorbar": {
             "outlinewidth": 0,
             "ticks": ""
            },
            "colorscale": [
             [
              0,
              "#0d0887"
             ],
             [
              0.1111111111111111,
              "#46039f"
             ],
             [
              0.2222222222222222,
              "#7201a8"
             ],
             [
              0.3333333333333333,
              "#9c179e"
             ],
             [
              0.4444444444444444,
              "#bd3786"
             ],
             [
              0.5555555555555556,
              "#d8576b"
             ],
             [
              0.6666666666666666,
              "#ed7953"
             ],
             [
              0.7777777777777778,
              "#fb9f3a"
             ],
             [
              0.8888888888888888,
              "#fdca26"
             ],
             [
              1,
              "#f0f921"
             ]
            ],
            "type": "histogram2dcontour"
           }
          ],
          "mesh3d": [
           {
            "colorbar": {
             "outlinewidth": 0,
             "ticks": ""
            },
            "type": "mesh3d"
           }
          ],
          "parcoords": [
           {
            "line": {
             "colorbar": {
              "outlinewidth": 0,
              "ticks": ""
             }
            },
            "type": "parcoords"
           }
          ],
          "pie": [
           {
            "automargin": true,
            "type": "pie"
           }
          ],
          "scatter": [
           {
            "marker": {
             "colorbar": {
              "outlinewidth": 0,
              "ticks": ""
             }
            },
            "type": "scatter"
           }
          ],
          "scatter3d": [
           {
            "line": {
             "colorbar": {
              "outlinewidth": 0,
              "ticks": ""
             }
            },
            "marker": {
             "colorbar": {
              "outlinewidth": 0,
              "ticks": ""
             }
            },
            "type": "scatter3d"
           }
          ],
          "scattercarpet": [
           {
            "marker": {
             "colorbar": {
              "outlinewidth": 0,
              "ticks": ""
             }
            },
            "type": "scattercarpet"
           }
          ],
          "scattergeo": [
           {
            "marker": {
             "colorbar": {
              "outlinewidth": 0,
              "ticks": ""
             }
            },
            "type": "scattergeo"
           }
          ],
          "scattergl": [
           {
            "marker": {
             "colorbar": {
              "outlinewidth": 0,
              "ticks": ""
             }
            },
            "type": "scattergl"
           }
          ],
          "scattermapbox": [
           {
            "marker": {
             "colorbar": {
              "outlinewidth": 0,
              "ticks": ""
             }
            },
            "type": "scattermapbox"
           }
          ],
          "scatterpolar": [
           {
            "marker": {
             "colorbar": {
              "outlinewidth": 0,
              "ticks": ""
             }
            },
            "type": "scatterpolar"
           }
          ],
          "scatterpolargl": [
           {
            "marker": {
             "colorbar": {
              "outlinewidth": 0,
              "ticks": ""
             }
            },
            "type": "scatterpolargl"
           }
          ],
          "scatterternary": [
           {
            "marker": {
             "colorbar": {
              "outlinewidth": 0,
              "ticks": ""
             }
            },
            "type": "scatterternary"
           }
          ],
          "surface": [
           {
            "colorbar": {
             "outlinewidth": 0,
             "ticks": ""
            },
            "colorscale": [
             [
              0,
              "#0d0887"
             ],
             [
              0.1111111111111111,
              "#46039f"
             ],
             [
              0.2222222222222222,
              "#7201a8"
             ],
             [
              0.3333333333333333,
              "#9c179e"
             ],
             [
              0.4444444444444444,
              "#bd3786"
             ],
             [
              0.5555555555555556,
              "#d8576b"
             ],
             [
              0.6666666666666666,
              "#ed7953"
             ],
             [
              0.7777777777777778,
              "#fb9f3a"
             ],
             [
              0.8888888888888888,
              "#fdca26"
             ],
             [
              1,
              "#f0f921"
             ]
            ],
            "type": "surface"
           }
          ],
          "table": [
           {
            "cells": {
             "fill": {
              "color": "#EBF0F8"
             },
             "line": {
              "color": "white"
             }
            },
            "header": {
             "fill": {
              "color": "#C8D4E3"
             },
             "line": {
              "color": "white"
             }
            },
            "type": "table"
           }
          ]
         },
         "layout": {
          "annotationdefaults": {
           "arrowcolor": "#2a3f5f",
           "arrowhead": 0,
           "arrowwidth": 1
          },
          "coloraxis": {
           "colorbar": {
            "outlinewidth": 0,
            "ticks": ""
           }
          },
          "colorscale": {
           "diverging": [
            [
             0,
             "#8e0152"
            ],
            [
             0.1,
             "#c51b7d"
            ],
            [
             0.2,
             "#de77ae"
            ],
            [
             0.3,
             "#f1b6da"
            ],
            [
             0.4,
             "#fde0ef"
            ],
            [
             0.5,
             "#f7f7f7"
            ],
            [
             0.6,
             "#e6f5d0"
            ],
            [
             0.7,
             "#b8e186"
            ],
            [
             0.8,
             "#7fbc41"
            ],
            [
             0.9,
             "#4d9221"
            ],
            [
             1,
             "#276419"
            ]
           ],
           "sequential": [
            [
             0,
             "#0d0887"
            ],
            [
             0.1111111111111111,
             "#46039f"
            ],
            [
             0.2222222222222222,
             "#7201a8"
            ],
            [
             0.3333333333333333,
             "#9c179e"
            ],
            [
             0.4444444444444444,
             "#bd3786"
            ],
            [
             0.5555555555555556,
             "#d8576b"
            ],
            [
             0.6666666666666666,
             "#ed7953"
            ],
            [
             0.7777777777777778,
             "#fb9f3a"
            ],
            [
             0.8888888888888888,
             "#fdca26"
            ],
            [
             1,
             "#f0f921"
            ]
           ],
           "sequentialminus": [
            [
             0,
             "#0d0887"
            ],
            [
             0.1111111111111111,
             "#46039f"
            ],
            [
             0.2222222222222222,
             "#7201a8"
            ],
            [
             0.3333333333333333,
             "#9c179e"
            ],
            [
             0.4444444444444444,
             "#bd3786"
            ],
            [
             0.5555555555555556,
             "#d8576b"
            ],
            [
             0.6666666666666666,
             "#ed7953"
            ],
            [
             0.7777777777777778,
             "#fb9f3a"
            ],
            [
             0.8888888888888888,
             "#fdca26"
            ],
            [
             1,
             "#f0f921"
            ]
           ]
          },
          "colorway": [
           "#636efa",
           "#EF553B",
           "#00cc96",
           "#ab63fa",
           "#FFA15A",
           "#19d3f3",
           "#FF6692",
           "#B6E880",
           "#FF97FF",
           "#FECB52"
          ],
          "font": {
           "color": "#2a3f5f"
          },
          "geo": {
           "bgcolor": "white",
           "lakecolor": "white",
           "landcolor": "#E5ECF6",
           "showlakes": true,
           "showland": true,
           "subunitcolor": "white"
          },
          "hoverlabel": {
           "align": "left"
          },
          "hovermode": "closest",
          "mapbox": {
           "style": "light"
          },
          "paper_bgcolor": "white",
          "plot_bgcolor": "#E5ECF6",
          "polar": {
           "angularaxis": {
            "gridcolor": "white",
            "linecolor": "white",
            "ticks": ""
           },
           "bgcolor": "#E5ECF6",
           "radialaxis": {
            "gridcolor": "white",
            "linecolor": "white",
            "ticks": ""
           }
          },
          "scene": {
           "xaxis": {
            "backgroundcolor": "#E5ECF6",
            "gridcolor": "white",
            "gridwidth": 2,
            "linecolor": "white",
            "showbackground": true,
            "ticks": "",
            "zerolinecolor": "white"
           },
           "yaxis": {
            "backgroundcolor": "#E5ECF6",
            "gridcolor": "white",
            "gridwidth": 2,
            "linecolor": "white",
            "showbackground": true,
            "ticks": "",
            "zerolinecolor": "white"
           },
           "zaxis": {
            "backgroundcolor": "#E5ECF6",
            "gridcolor": "white",
            "gridwidth": 2,
            "linecolor": "white",
            "showbackground": true,
            "ticks": "",
            "zerolinecolor": "white"
           }
          },
          "shapedefaults": {
           "line": {
            "color": "#2a3f5f"
           }
          },
          "ternary": {
           "aaxis": {
            "gridcolor": "white",
            "linecolor": "white",
            "ticks": ""
           },
           "baxis": {
            "gridcolor": "white",
            "linecolor": "white",
            "ticks": ""
           },
           "bgcolor": "#E5ECF6",
           "caxis": {
            "gridcolor": "white",
            "linecolor": "white",
            "ticks": ""
           }
          },
          "title": {
           "x": 0.05
          },
          "xaxis": {
           "automargin": true,
           "gridcolor": "white",
           "linecolor": "white",
           "ticks": "",
           "title": {
            "standoff": 15
           },
           "zerolinecolor": "white",
           "zerolinewidth": 2
          },
          "yaxis": {
           "automargin": true,
           "gridcolor": "white",
           "linecolor": "white",
           "ticks": "",
           "title": {
            "standoff": 15
           },
           "zerolinecolor": "white",
           "zerolinewidth": 2
          }
         }
        },
        "title": {
         "text": "Óbitos confirmados a partir do vigésimo confirmado em diferentes cidades"
        },
        "width": 1000,
        "xaxis": {
         "title": {
          "text": "Dias após o vigésimo óbito"
         }
        },
        "yaxis": {
         "title": {
          "text": "Confirmados"
         },
         "type": "log"
        }
       }
      },
      "text/html": [
       "<div>\n",
       "        \n",
       "        \n",
       "            <div id=\"0185ed1c-79f4-41d3-a36e-85e6d26af82a\" class=\"plotly-graph-div\" style=\"height:700px; width:1000px;\"></div>\n",
       "            <script type=\"text/javascript\">\n",
       "                require([\"plotly\"], function(Plotly) {\n",
       "                    window.PLOTLYENV=window.PLOTLYENV || {};\n",
       "                    \n",
       "                if (document.getElementById(\"0185ed1c-79f4-41d3-a36e-85e6d26af82a\")) {\n",
       "                    Plotly.newPlot(\n",
       "                        '0185ed1c-79f4-41d3-a36e-85e6d26af82a',\n",
       "                        [{\"hovertemplate\": \"<br><b>Dias</b>: %{x}<br><br><b>\\u00d3bitos</b>: %{y}\", \"mode\": \"lines\", \"name\": \"Nova York\", \"type\": \"scatter\", \"x\": [0, 1, 2, 3, 4, 5, 6, 7, 8, 9, 10, 11, 12, 13, 14, 15, 16, 17, 18, 19, 20, 21, 22, 23, 24, 25, 26, 27, 28, 29, 30, 31, 32, 33, 34, 35, 36, 37, 38, 39, 40, 41, 42, 43, 44, 45, 46, 47, 48, 49, 50, 51, 52, 53], \"y\": [25.0, 31.0, 54.0, 75.0, 119.0, 155.0, 230.0, 330.0, 435.0, 560.0, 825.0, 991.0, 1202.0, 1475.0, 1848.0, 2152.0, 2648.0, 3221.0, 3646.0, 4857.0, 5631.0, 6441.0, 7249.0, 7981.0, 8734.0, 9448.0, 10096.0, 10857.0, 11566.0, 12109.0, 12283.0, 12411.0, 13632.0, 14074.0, 14513.0, 14959.0, 15361.0, 15754.0, 16146.0, 16486.0, 16821.0, 17206.0, 17597.0, 17809.0, 17931.0, 18021.0, 18451.0, 18580.0, 18719.0, 18993.0, 19141.0, 19210.0, 19324.0, 19436.0]}, {\"hovertemplate\": \"<br><b>Dias</b>: %{x}<br><br><b>\\u00d3bitos</b>: %{y}\", \"mode\": \"lines\", \"name\": \"Miami\", \"type\": \"scatter\", \"x\": [0, 1, 2, 3, 4, 5, 6, 7, 8, 9, 10, 11, 12, 13, 14, 15, 16, 17, 18, 19, 20, 21, 22, 23, 24, 25, 26, 27, 28, 29, 30, 31, 32, 33, 34, 35, 36, 37, 38], \"y\": [20.0, 25.0, 31.0, 31.0, 41.0, 47.0, 50.0, 66.0, 84.0, 93.0, 97.0, 109.0, 143.0, 155.0, 183.0, 195.0, 198.0, 207.0, 223.0, 233.0, 240.0, 270.0, 287.0, 295.0, 301.0, 302.0, 324.0, 338.0, 352.0, 358.0, 367.0, 369.0, 378.0, 407.0, 432.0, 454.0, 468.0, 482.0, 487.0]}, {\"hovertemplate\": \"<br><b>Dias</b>: %{x}<br><br><b>\\u00d3bitos</b>: %{y}\", \"mode\": \"lines\", \"name\": \"Los Angeles\", \"type\": \"scatter\", \"x\": [0, 1, 2, 3, 4, 5, 6, 7, 8, 9, 10, 11, 12, 13, 14, 15, 16, 17, 18, 19, 20, 21, 22, 23, 24, 25, 26, 27, 28, 29, 30, 31, 32, 33, 34, 35, 36, 37, 38, 39, 40, 41, 42, 43, 44, 45], \"y\": [21.0, 27.0, 33.0, 37.0, 44.0, 54.0, 65.0, 78.0, 89.0, 117.0, 132.0, 147.0, 169.0, 198.0, 223.0, 241.0, 265.0, 296.0, 320.0, 360.0, 402.0, 455.0, 495.0, 576.0, 600.0, 617.0, 663.0, 729.0, 797.0, 850.0, 895.0, 913.0, 942.0, 1000.0, 1056.0, 1111.0, 1172.0, 1209.0, 1229.0, 1256.0, 1313.0, 1367.0, 1418.0, 1468.0, 1512.0, 1530.0]}, {\"hovertemplate\": \"<br><b>Dias</b>: %{x}<br><br><b>\\u00d3bitos</b>: %{y}\", \"mode\": \"lines\", \"name\": \"Lombardia\", \"type\": \"scatter\", \"x\": [0, 1, 2, 3, 4, 5, 6, 7, 8, 9, 10, 11, 12, 13, 14, 15, 16, 17, 18, 19, 20, 21, 22, 23, 24, 25, 26, 27, 28, 29, 30, 31, 32, 33, 34, 35, 36, 37, 38, 39, 40, 41, 42, 43, 44, 45, 46, 47, 48, 49, 50, 51, 52, 53, 54, 55, 56, 57, 58, 59, 60, 61, 62, 63, 64, 65, 66, 67, 68, 69], \"y\": [23, 24, 38, 55, 73, 98, 135, 154, 267, 333, 468, 617, 744, 890, 966, 1218, 1420, 1640, 1959, 2168, 2549, 3095, 3456, 3776, 4178, 4474, 4861, 5402, 5944, 6360, 6818, 7199, 7593, 7960, 8311, 8656, 8905, 9202, 9484, 9722, 10022, 10238, 10511, 10621, 10901, 11142, 11377, 11608, 11851, 12050, 12213, 12376, 12579, 12740, 12940, 13106, 13269, 13325, 13449, 13575, 13679, 13772, 13860, 14189, 14231, 14294, 14389, 14611, 14745, 14839]}],\n",
       "                        {\"height\": 700, \"template\": {\"data\": {\"bar\": [{\"error_x\": {\"color\": \"#2a3f5f\"}, \"error_y\": {\"color\": \"#2a3f5f\"}, \"marker\": {\"line\": {\"color\": \"#E5ECF6\", \"width\": 0.5}}, \"type\": \"bar\"}], \"barpolar\": [{\"marker\": {\"line\": {\"color\": \"#E5ECF6\", \"width\": 0.5}}, \"type\": \"barpolar\"}], \"carpet\": [{\"aaxis\": {\"endlinecolor\": \"#2a3f5f\", \"gridcolor\": \"white\", \"linecolor\": \"white\", \"minorgridcolor\": \"white\", \"startlinecolor\": \"#2a3f5f\"}, \"baxis\": {\"endlinecolor\": \"#2a3f5f\", \"gridcolor\": \"white\", \"linecolor\": \"white\", \"minorgridcolor\": \"white\", \"startlinecolor\": \"#2a3f5f\"}, \"type\": \"carpet\"}], \"choropleth\": [{\"colorbar\": {\"outlinewidth\": 0, \"ticks\": \"\"}, \"type\": \"choropleth\"}], \"contour\": [{\"colorbar\": {\"outlinewidth\": 0, \"ticks\": \"\"}, \"colorscale\": [[0.0, \"#0d0887\"], [0.1111111111111111, \"#46039f\"], [0.2222222222222222, \"#7201a8\"], [0.3333333333333333, \"#9c179e\"], [0.4444444444444444, \"#bd3786\"], [0.5555555555555556, \"#d8576b\"], [0.6666666666666666, \"#ed7953\"], [0.7777777777777778, \"#fb9f3a\"], [0.8888888888888888, \"#fdca26\"], [1.0, \"#f0f921\"]], \"type\": \"contour\"}], \"contourcarpet\": [{\"colorbar\": {\"outlinewidth\": 0, \"ticks\": \"\"}, \"type\": \"contourcarpet\"}], \"heatmap\": [{\"colorbar\": {\"outlinewidth\": 0, \"ticks\": \"\"}, \"colorscale\": [[0.0, \"#0d0887\"], [0.1111111111111111, \"#46039f\"], [0.2222222222222222, \"#7201a8\"], [0.3333333333333333, \"#9c179e\"], [0.4444444444444444, \"#bd3786\"], [0.5555555555555556, \"#d8576b\"], [0.6666666666666666, \"#ed7953\"], [0.7777777777777778, \"#fb9f3a\"], [0.8888888888888888, \"#fdca26\"], [1.0, \"#f0f921\"]], \"type\": \"heatmap\"}], \"heatmapgl\": [{\"colorbar\": {\"outlinewidth\": 0, \"ticks\": \"\"}, \"colorscale\": [[0.0, \"#0d0887\"], [0.1111111111111111, \"#46039f\"], [0.2222222222222222, \"#7201a8\"], [0.3333333333333333, \"#9c179e\"], [0.4444444444444444, \"#bd3786\"], [0.5555555555555556, \"#d8576b\"], [0.6666666666666666, \"#ed7953\"], [0.7777777777777778, \"#fb9f3a\"], [0.8888888888888888, \"#fdca26\"], [1.0, \"#f0f921\"]], \"type\": \"heatmapgl\"}], \"histogram\": [{\"marker\": {\"colorbar\": {\"outlinewidth\": 0, \"ticks\": \"\"}}, \"type\": \"histogram\"}], \"histogram2d\": [{\"colorbar\": {\"outlinewidth\": 0, \"ticks\": \"\"}, \"colorscale\": [[0.0, \"#0d0887\"], [0.1111111111111111, \"#46039f\"], [0.2222222222222222, \"#7201a8\"], [0.3333333333333333, \"#9c179e\"], [0.4444444444444444, \"#bd3786\"], [0.5555555555555556, \"#d8576b\"], [0.6666666666666666, \"#ed7953\"], [0.7777777777777778, \"#fb9f3a\"], [0.8888888888888888, \"#fdca26\"], [1.0, \"#f0f921\"]], \"type\": \"histogram2d\"}], \"histogram2dcontour\": [{\"colorbar\": {\"outlinewidth\": 0, \"ticks\": \"\"}, \"colorscale\": [[0.0, \"#0d0887\"], [0.1111111111111111, \"#46039f\"], [0.2222222222222222, \"#7201a8\"], [0.3333333333333333, \"#9c179e\"], [0.4444444444444444, \"#bd3786\"], [0.5555555555555556, \"#d8576b\"], [0.6666666666666666, \"#ed7953\"], [0.7777777777777778, \"#fb9f3a\"], [0.8888888888888888, \"#fdca26\"], [1.0, \"#f0f921\"]], \"type\": \"histogram2dcontour\"}], \"mesh3d\": [{\"colorbar\": {\"outlinewidth\": 0, \"ticks\": \"\"}, \"type\": \"mesh3d\"}], \"parcoords\": [{\"line\": {\"colorbar\": {\"outlinewidth\": 0, \"ticks\": \"\"}}, \"type\": \"parcoords\"}], \"pie\": [{\"automargin\": true, \"type\": \"pie\"}], \"scatter\": [{\"marker\": {\"colorbar\": {\"outlinewidth\": 0, \"ticks\": \"\"}}, \"type\": \"scatter\"}], \"scatter3d\": [{\"line\": {\"colorbar\": {\"outlinewidth\": 0, \"ticks\": \"\"}}, \"marker\": {\"colorbar\": {\"outlinewidth\": 0, \"ticks\": \"\"}}, \"type\": \"scatter3d\"}], \"scattercarpet\": [{\"marker\": {\"colorbar\": {\"outlinewidth\": 0, \"ticks\": \"\"}}, \"type\": \"scattercarpet\"}], \"scattergeo\": [{\"marker\": {\"colorbar\": {\"outlinewidth\": 0, \"ticks\": \"\"}}, \"type\": \"scattergeo\"}], \"scattergl\": [{\"marker\": {\"colorbar\": {\"outlinewidth\": 0, \"ticks\": \"\"}}, \"type\": \"scattergl\"}], \"scattermapbox\": [{\"marker\": {\"colorbar\": {\"outlinewidth\": 0, \"ticks\": \"\"}}, \"type\": \"scattermapbox\"}], \"scatterpolar\": [{\"marker\": {\"colorbar\": {\"outlinewidth\": 0, \"ticks\": \"\"}}, \"type\": \"scatterpolar\"}], \"scatterpolargl\": [{\"marker\": {\"colorbar\": {\"outlinewidth\": 0, \"ticks\": \"\"}}, \"type\": \"scatterpolargl\"}], \"scatterternary\": [{\"marker\": {\"colorbar\": {\"outlinewidth\": 0, \"ticks\": \"\"}}, \"type\": \"scatterternary\"}], \"surface\": [{\"colorbar\": {\"outlinewidth\": 0, \"ticks\": \"\"}, \"colorscale\": [[0.0, \"#0d0887\"], [0.1111111111111111, \"#46039f\"], [0.2222222222222222, \"#7201a8\"], [0.3333333333333333, \"#9c179e\"], [0.4444444444444444, \"#bd3786\"], [0.5555555555555556, \"#d8576b\"], [0.6666666666666666, \"#ed7953\"], [0.7777777777777778, \"#fb9f3a\"], [0.8888888888888888, \"#fdca26\"], [1.0, \"#f0f921\"]], \"type\": \"surface\"}], \"table\": [{\"cells\": {\"fill\": {\"color\": \"#EBF0F8\"}, \"line\": {\"color\": \"white\"}}, \"header\": {\"fill\": {\"color\": \"#C8D4E3\"}, \"line\": {\"color\": \"white\"}}, \"type\": \"table\"}]}, \"layout\": {\"annotationdefaults\": {\"arrowcolor\": \"#2a3f5f\", \"arrowhead\": 0, \"arrowwidth\": 1}, \"coloraxis\": {\"colorbar\": {\"outlinewidth\": 0, \"ticks\": \"\"}}, \"colorscale\": {\"diverging\": [[0, \"#8e0152\"], [0.1, \"#c51b7d\"], [0.2, \"#de77ae\"], [0.3, \"#f1b6da\"], [0.4, \"#fde0ef\"], [0.5, \"#f7f7f7\"], [0.6, \"#e6f5d0\"], [0.7, \"#b8e186\"], [0.8, \"#7fbc41\"], [0.9, \"#4d9221\"], [1, \"#276419\"]], \"sequential\": [[0.0, \"#0d0887\"], [0.1111111111111111, \"#46039f\"], [0.2222222222222222, \"#7201a8\"], [0.3333333333333333, \"#9c179e\"], [0.4444444444444444, \"#bd3786\"], [0.5555555555555556, \"#d8576b\"], [0.6666666666666666, \"#ed7953\"], [0.7777777777777778, \"#fb9f3a\"], [0.8888888888888888, \"#fdca26\"], [1.0, \"#f0f921\"]], \"sequentialminus\": [[0.0, \"#0d0887\"], [0.1111111111111111, \"#46039f\"], [0.2222222222222222, \"#7201a8\"], [0.3333333333333333, \"#9c179e\"], [0.4444444444444444, \"#bd3786\"], [0.5555555555555556, \"#d8576b\"], [0.6666666666666666, \"#ed7953\"], [0.7777777777777778, \"#fb9f3a\"], [0.8888888888888888, \"#fdca26\"], [1.0, \"#f0f921\"]]}, \"colorway\": [\"#636efa\", \"#EF553B\", \"#00cc96\", \"#ab63fa\", \"#FFA15A\", \"#19d3f3\", \"#FF6692\", \"#B6E880\", \"#FF97FF\", \"#FECB52\"], \"font\": {\"color\": \"#2a3f5f\"}, \"geo\": {\"bgcolor\": \"white\", \"lakecolor\": \"white\", \"landcolor\": \"#E5ECF6\", \"showlakes\": true, \"showland\": true, \"subunitcolor\": \"white\"}, \"hoverlabel\": {\"align\": \"left\"}, \"hovermode\": \"closest\", \"mapbox\": {\"style\": \"light\"}, \"paper_bgcolor\": \"white\", \"plot_bgcolor\": \"#E5ECF6\", \"polar\": {\"angularaxis\": {\"gridcolor\": \"white\", \"linecolor\": \"white\", \"ticks\": \"\"}, \"bgcolor\": \"#E5ECF6\", \"radialaxis\": {\"gridcolor\": \"white\", \"linecolor\": \"white\", \"ticks\": \"\"}}, \"scene\": {\"xaxis\": {\"backgroundcolor\": \"#E5ECF6\", \"gridcolor\": \"white\", \"gridwidth\": 2, \"linecolor\": \"white\", \"showbackground\": true, \"ticks\": \"\", \"zerolinecolor\": \"white\"}, \"yaxis\": {\"backgroundcolor\": \"#E5ECF6\", \"gridcolor\": \"white\", \"gridwidth\": 2, \"linecolor\": \"white\", \"showbackground\": true, \"ticks\": \"\", \"zerolinecolor\": \"white\"}, \"zaxis\": {\"backgroundcolor\": \"#E5ECF6\", \"gridcolor\": \"white\", \"gridwidth\": 2, \"linecolor\": \"white\", \"showbackground\": true, \"ticks\": \"\", \"zerolinecolor\": \"white\"}}, \"shapedefaults\": {\"line\": {\"color\": \"#2a3f5f\"}}, \"ternary\": {\"aaxis\": {\"gridcolor\": \"white\", \"linecolor\": \"white\", \"ticks\": \"\"}, \"baxis\": {\"gridcolor\": \"white\", \"linecolor\": \"white\", \"ticks\": \"\"}, \"bgcolor\": \"#E5ECF6\", \"caxis\": {\"gridcolor\": \"white\", \"linecolor\": \"white\", \"ticks\": \"\"}}, \"title\": {\"x\": 0.05}, \"xaxis\": {\"automargin\": true, \"gridcolor\": \"white\", \"linecolor\": \"white\", \"ticks\": \"\", \"title\": {\"standoff\": 15}, \"zerolinecolor\": \"white\", \"zerolinewidth\": 2}, \"yaxis\": {\"automargin\": true, \"gridcolor\": \"white\", \"linecolor\": \"white\", \"ticks\": \"\", \"title\": {\"standoff\": 15}, \"zerolinecolor\": \"white\", \"zerolinewidth\": 2}}}, \"title\": {\"text\": \"\\u00d3bitos confirmados a partir do vig\\u00e9simo confirmado em diferentes cidades\"}, \"width\": 1000, \"xaxis\": {\"title\": {\"text\": \"Dias ap\\u00f3s o vig\\u00e9simo \\u00f3bito\"}}, \"yaxis\": {\"title\": {\"text\": \"Confirmados\"}, \"type\": \"log\"}},\n",
       "                        {\"responsive\": true}\n",
       "                    ).then(function(){\n",
       "                            \n",
       "var gd = document.getElementById('0185ed1c-79f4-41d3-a36e-85e6d26af82a');\n",
       "var x = new MutationObserver(function (mutations, observer) {{\n",
       "        var display = window.getComputedStyle(gd).display;\n",
       "        if (!display || display === 'none') {{\n",
       "            console.log([gd, 'removed!']);\n",
       "            Plotly.purge(gd);\n",
       "            observer.disconnect();\n",
       "        }}\n",
       "}});\n",
       "\n",
       "// Listen for the removal of the full notebook cells\n",
       "var notebookContainer = gd.closest('#notebook-container');\n",
       "if (notebookContainer) {{\n",
       "    x.observe(notebookContainer, {childList: true});\n",
       "}}\n",
       "\n",
       "// Listen for the clearing of the current output cell\n",
       "var outputEl = gd.closest('.output');\n",
       "if (outputEl) {{\n",
       "    x.observe(outputEl, {childList: true});\n",
       "}}\n",
       "\n",
       "                        })\n",
       "                };\n",
       "                });\n",
       "            </script>\n",
       "        </div>"
      ]
     },
     "metadata": {},
     "output_type": "display_data"
    }
   ],
   "source": [
    "fig = go.Figure()\n",
    "\n",
    "fig.add_trace(go.Scatter(\n",
    "    x=ny_deaths.index,\n",
    "    y=ny_deaths,\n",
    "    mode='lines',\n",
    "    hovertemplate = '<br><b>Dias</b>: %{x}<br>'\n",
    "                    '<br><b>Óbitos</b>: %{y}',\n",
    "    name=\"Nova York\"\n",
    "    )\n",
    ")\n",
    "fig.add_trace(go.Scatter(\n",
    "    x=mi_deaths.index,\n",
    "    y=mi_deaths,\n",
    "    mode='lines',\n",
    "    hovertemplate = '<br><b>Dias</b>: %{x}<br>'\n",
    "                    '<br><b>Óbitos</b>: %{y}',\n",
    "    name=\"Miami\"\n",
    "    )\n",
    ")\n",
    "fig.add_trace(go.Scatter(\n",
    "    x=la_deaths.index,\n",
    "    y=la_deaths,\n",
    "    mode='lines',\n",
    "    hovertemplate = '<br><b>Dias</b>: %{x}<br>'\n",
    "                    '<br><b>Óbitos</b>: %{y}',\n",
    "    name=\"Los Angeles\"\n",
    "    )\n",
    ")\n",
    "fig.add_trace(go.Scatter(\n",
    "    x=lom_deaths.index,\n",
    "    y=lom_deaths,\n",
    "    mode='lines',\n",
    "    hovertemplate = '<br><b>Dias</b>: %{x}<br>'\n",
    "                    '<br><b>Óbitos</b>: %{y}',\n",
    "    name=\"Lombardia\"\n",
    "    )\n",
    ")\n",
    "\n",
    "# fig.add_trace(go.Scatter(\n",
    "#     y=doubling_1day,\n",
    "#     mode='lines',\n",
    "#     hovertemplate = '<br><b>Dias</b>: %{x}<br>'\n",
    "#                     '<br><b>Confirmados</b>: %{y}',\n",
    "#     name=\"Dobra a cada dia\"\n",
    "#     )\n",
    "# )\n",
    "# fig.add_trace(go.Scatter(\n",
    "#     y=doubling_2days,\n",
    "#     mode='lines',\n",
    "#     hovertemplate = '<br><b>Dias</b>: %{x}<br>'\n",
    "#                     '<br><b>Confirmados</b>: %{y}',\n",
    "#     name=\"Dobra a cada dois dias\"\n",
    "#     )\n",
    "# )\n",
    "# fig.add_trace(go.Scatter(\n",
    "#     y=doubling_4days,\n",
    "#     mode='lines',\n",
    "#     hovertemplate = '<br><b>Dias</b>: %{x}<br>'\n",
    "#                     '<br><b>Confirmados</b>: %{y}',\n",
    "#     name=\"Dobra a cada quatro dias\"\n",
    "#     )\n",
    "# )\n",
    "# fig.add_trace(go.Scatter(\n",
    "#     y=doubling_7days[:len(mil)+5],\n",
    "#     mode='lines',\n",
    "#     hovertemplate = '<br><b>Dias</b>: %{x}<br>'\n",
    "#                     '<br><b>Confirmados</b>: %{y}',\n",
    "#     name=\"Dobra a cada sete dias\"\n",
    "#     )\n",
    "# )\n",
    "\n",
    "fig.update_layout(title=\"Óbitos confirmados a partir do vigésimo confirmado em diferentes cidades\",\n",
    "    xaxis_title=\"Dias após o vigésimo óbito\",\n",
    "    yaxis_title=\"Confirmados\",\n",
    "    width=1000,\n",
    "    height=700,\n",
    "    )\n",
    "\n",
    "fig.update_yaxes(type=\"log\")\n",
    "fig.show()\n",
    "fig.write_html(\"./plots/obitos.html\")"
   ]
  },
  {
   "cell_type": "code",
   "execution_count": null,
   "metadata": {},
   "outputs": [],
   "source": []
  }
 ],
 "metadata": {
  "kernelspec": {
   "display_name": "Python 3",
   "language": "python",
   "name": "python3"
  },
  "language_info": {
   "codemirror_mode": {
    "name": "ipython",
    "version": 3
   },
   "file_extension": ".py",
   "mimetype": "text/x-python",
   "name": "python",
   "nbconvert_exporter": "python",
   "pygments_lexer": "ipython3",
   "version": "3.7.6"
  },
  "latex_envs": {
   "LaTeX_envs_menu_present": true,
   "autoclose": false,
   "autocomplete": true,
   "bibliofile": "biblio.bib",
   "cite_by": "apalike",
   "current_citInitial": 1,
   "eqLabelWithNumbers": true,
   "eqNumInitial": 1,
   "hotkeys": {
    "equation": "Ctrl-E",
    "itemize": "Ctrl-I"
   },
   "labels_anchors": false,
   "latex_user_defs": false,
   "report_style_numbering": false,
   "user_envs_cfg": false
  },
  "toc": {
   "base_numbering": 1,
   "nav_menu": {
    "height": "209px",
    "width": "234px"
   },
   "number_sections": true,
   "sideBar": true,
   "skip_h1_title": false,
   "title_cell": "Table of Contents",
   "title_sidebar": "Contents",
   "toc_cell": false,
   "toc_position": {},
   "toc_section_display": true,
   "toc_window_display": false
  },
  "varInspector": {
   "cols": {
    "lenName": 16,
    "lenType": 16,
    "lenVar": 40
   },
   "kernels_config": {
    "python": {
     "delete_cmd_postfix": "",
     "delete_cmd_prefix": "del ",
     "library": "var_list.py",
     "varRefreshCmd": "print(var_dic_list())"
    },
    "r": {
     "delete_cmd_postfix": ") ",
     "delete_cmd_prefix": "rm(",
     "library": "var_list.r",
     "varRefreshCmd": "cat(var_dic_list()) "
    }
   },
   "position": {
    "height": "453px",
    "left": "975px",
    "right": "20px",
    "top": "168px",
    "width": "350px"
   },
   "types_to_exclude": [
    "module",
    "function",
    "builtin_function_or_method",
    "instance",
    "_Feature"
   ],
   "window_display": false
  }
 },
 "nbformat": 4,
 "nbformat_minor": 4
}
